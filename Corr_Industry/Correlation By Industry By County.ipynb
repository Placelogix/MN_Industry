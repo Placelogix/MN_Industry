{
 "cells": [
  {
   "cell_type": "code",
   "execution_count": 1,
   "metadata": {
    "collapsed": true
   },
   "outputs": [],
   "source": [
    "import pandas as pd\n",
    "\n",
    "import numpy as np\n",
    "\n",
    "import xlsxwriter, os\n",
    "\n",
    "import matplotlib.pyplot as plt\n",
    "\n",
    "%matplotlib inline\n",
    "\n",
    "from openpyxl import load_workbook\n",
    "\n",
    "from sklearn import preprocessing"
   ]
  },
  {
   "cell_type": "code",
   "execution_count": 2,
   "metadata": {
    "collapsed": true
   },
   "outputs": [],
   "source": [
    "# save sales by industry into excel files\n",
    "\n",
    "def create_excel_fnc(path, df, sheetname):\n",
    "    \n",
    "    writer = pd.ExcelWriter(path)\n",
    "    \n",
    "    df.to_excel(writer, sheetname)\n",
    "    \n",
    "    writer.save()\n",
    "    \n",
    "def add_sheet_fnc(path, df,sheetname):\n",
    "    \n",
    "    book = load_workbook(path)\n",
    "    \n",
    "    writer = pd.ExcelWriter(path, engine='openpyxl')\n",
    "    \n",
    "    writer.book = book\n",
    "    \n",
    "    df.to_excel(writer, sheet_name=sheetname)\n",
    "    \n",
    "    writer.save()\n",
    "    \n",
    "    writer.close()"
   ]
  },
  {
   "cell_type": "markdown",
   "metadata": {},
   "source": [
    "# Process MN Industry 2015 Dataset"
   ]
  },
  {
   "cell_type": "code",
   "execution_count": 3,
   "metadata": {
    "collapsed": true
   },
   "outputs": [],
   "source": [
    "# load MN Industry Dataset\n",
    "\n",
    "MN_df = pd.read_excel(os.getcwd()+r'\\MN_Data\\MN_Industry2015.xls')"
   ]
  },
  {
   "cell_type": "code",
   "execution_count": 4,
   "metadata": {
    "collapsed": true
   },
   "outputs": [],
   "source": [
    "# drop unexpected rows\n",
    "\n",
    "MN_df = MN_df[MN_df.COUNTY != 'NON-MINNESOTA CO']"
   ]
  },
  {
   "cell_type": "code",
   "execution_count": 5,
   "metadata": {
    "collapsed": true
   },
   "outputs": [],
   "source": [
    "# extract all industry names\n",
    "\n",
    "Industry_Names = MN_df.INDUSTRY.unique()"
   ]
  },
  {
   "cell_type": "code",
   "execution_count": 6,
   "metadata": {},
   "outputs": [],
   "source": [
    "Industry_Names[33] = '999 UNDESIGNATED or SUPPRESSED'"
   ]
  },
  {
   "cell_type": "code",
   "execution_count": 7,
   "metadata": {},
   "outputs": [
    {
     "data": {
      "text/html": [
       "<div>\n",
       "<style>\n",
       "    .dataframe thead tr:only-child th {\n",
       "        text-align: right;\n",
       "    }\n",
       "\n",
       "    .dataframe thead th {\n",
       "        text-align: left;\n",
       "    }\n",
       "\n",
       "    .dataframe tbody tr th {\n",
       "        vertical-align: top;\n",
       "    }\n",
       "</style>\n",
       "<table border=\"1\" class=\"dataframe\">\n",
       "  <thead>\n",
       "    <tr style=\"text-align: right;\">\n",
       "      <th></th>\n",
       "      <th>YEAR</th>\n",
       "      <th>COUNTY</th>\n",
       "      <th>INDUSTRY</th>\n",
       "      <th>GROSS SALES</th>\n",
       "      <th>TAXABLE SALES</th>\n",
       "      <th>SALES TAX</th>\n",
       "      <th>USE TAX</th>\n",
       "      <th>TOTAL TAX</th>\n",
       "      <th>NUMBER</th>\n",
       "    </tr>\n",
       "  </thead>\n",
       "  <tbody>\n",
       "    <tr>\n",
       "      <th>0</th>\n",
       "      <td>2015</td>\n",
       "      <td>AITKIN</td>\n",
       "      <td>236 CONSTRUCT -BUILDINGS</td>\n",
       "      <td>1501102</td>\n",
       "      <td>172758</td>\n",
       "      <td>15100</td>\n",
       "      <td>1314</td>\n",
       "      <td>16414</td>\n",
       "      <td>4</td>\n",
       "    </tr>\n",
       "    <tr>\n",
       "      <th>1</th>\n",
       "      <td>2015</td>\n",
       "      <td>AITKIN</td>\n",
       "      <td>238 CONSTRUCT -SPECIAL TRADES</td>\n",
       "      <td>16217060</td>\n",
       "      <td>2286540</td>\n",
       "      <td>157199</td>\n",
       "      <td>22557</td>\n",
       "      <td>179756</td>\n",
       "      <td>31</td>\n",
       "    </tr>\n",
       "    <tr>\n",
       "      <th>2</th>\n",
       "      <td>2015</td>\n",
       "      <td>AITKIN</td>\n",
       "      <td>311 MFG -FOOD</td>\n",
       "      <td>3502899</td>\n",
       "      <td>54989</td>\n",
       "      <td>3781</td>\n",
       "      <td>1</td>\n",
       "      <td>3782</td>\n",
       "      <td>4</td>\n",
       "    </tr>\n",
       "    <tr>\n",
       "      <th>3</th>\n",
       "      <td>2015</td>\n",
       "      <td>AITKIN</td>\n",
       "      <td>314 MFG -TEXTILE PROD MILLS</td>\n",
       "      <td>207331</td>\n",
       "      <td>131150</td>\n",
       "      <td>9016</td>\n",
       "      <td>0</td>\n",
       "      <td>9016</td>\n",
       "      <td>5</td>\n",
       "    </tr>\n",
       "    <tr>\n",
       "      <th>4</th>\n",
       "      <td>2015</td>\n",
       "      <td>AITKIN</td>\n",
       "      <td>321 MFG -WOOD PRODUCT</td>\n",
       "      <td>28025899</td>\n",
       "      <td>203773</td>\n",
       "      <td>14009</td>\n",
       "      <td>1507</td>\n",
       "      <td>15516</td>\n",
       "      <td>6</td>\n",
       "    </tr>\n",
       "  </tbody>\n",
       "</table>\n",
       "</div>"
      ],
      "text/plain": [
       "   YEAR  COUNTY                       INDUSTRY  GROSS SALES  TAXABLE SALES  \\\n",
       "0  2015  AITKIN       236 CONSTRUCT -BUILDINGS      1501102         172758   \n",
       "1  2015  AITKIN  238 CONSTRUCT -SPECIAL TRADES     16217060        2286540   \n",
       "2  2015  AITKIN                  311 MFG -FOOD      3502899          54989   \n",
       "3  2015  AITKIN    314 MFG -TEXTILE PROD MILLS       207331         131150   \n",
       "4  2015  AITKIN          321 MFG -WOOD PRODUCT     28025899         203773   \n",
       "\n",
       "   SALES TAX  USE TAX  TOTAL TAX  NUMBER  \n",
       "0      15100     1314      16414       4  \n",
       "1     157199    22557     179756      31  \n",
       "2       3781        1       3782       4  \n",
       "3       9016        0       9016       5  \n",
       "4      14009     1507      15516       6  "
      ]
     },
     "execution_count": 7,
     "metadata": {},
     "output_type": "execute_result"
    }
   ],
   "source": [
    "MN_df.head()"
   ]
  },
  {
   "cell_type": "code",
   "execution_count": 8,
   "metadata": {},
   "outputs": [],
   "source": [
    "# The count of the industries\n",
    "\n",
    "# Industry_Names"
   ]
  },
  {
   "cell_type": "code",
   "execution_count": 15,
   "metadata": {
    "collapsed": true
   },
   "outputs": [],
   "source": [
    "Food_df = MN_df[MN_df.INDUSTRY == '311 MFG -FOOD']\n",
    "    \n",
    "Food_County = Food_df.COUNTY.tolist()"
   ]
  },
  {
   "cell_type": "code",
   "execution_count": 17,
   "metadata": {},
   "outputs": [],
   "source": [
    "Food_County_Sales = Food_df[['COUNTY', 'GROSS SALES']]"
   ]
  },
  {
   "cell_type": "code",
   "execution_count": 18,
   "metadata": {},
   "outputs": [
    {
     "data": {
      "text/html": [
       "<div>\n",
       "<style>\n",
       "    .dataframe thead tr:only-child th {\n",
       "        text-align: right;\n",
       "    }\n",
       "\n",
       "    .dataframe thead th {\n",
       "        text-align: left;\n",
       "    }\n",
       "\n",
       "    .dataframe tbody tr th {\n",
       "        vertical-align: top;\n",
       "    }\n",
       "</style>\n",
       "<table border=\"1\" class=\"dataframe\">\n",
       "  <thead>\n",
       "    <tr style=\"text-align: right;\">\n",
       "      <th></th>\n",
       "      <th>COUNTY</th>\n",
       "      <th>GROSS SALES</th>\n",
       "    </tr>\n",
       "  </thead>\n",
       "  <tbody>\n",
       "    <tr>\n",
       "      <th>2</th>\n",
       "      <td>AITKIN</td>\n",
       "      <td>3502899</td>\n",
       "    </tr>\n",
       "    <tr>\n",
       "      <th>42</th>\n",
       "      <td>ANOKA</td>\n",
       "      <td>7361521</td>\n",
       "    </tr>\n",
       "    <tr>\n",
       "      <th>113</th>\n",
       "      <td>BECKER</td>\n",
       "      <td>750425</td>\n",
       "    </tr>\n",
       "    <tr>\n",
       "      <th>160</th>\n",
       "      <td>BELTRAMI</td>\n",
       "      <td>294666</td>\n",
       "    </tr>\n",
       "    <tr>\n",
       "      <th>277</th>\n",
       "      <td>BLUE EARTH</td>\n",
       "      <td>1383165880</td>\n",
       "    </tr>\n",
       "  </tbody>\n",
       "</table>\n",
       "</div>"
      ],
      "text/plain": [
       "         COUNTY  GROSS SALES\n",
       "2        AITKIN      3502899\n",
       "42        ANOKA      7361521\n",
       "113      BECKER       750425\n",
       "160    BELTRAMI       294666\n",
       "277  BLUE EARTH   1383165880"
      ]
     },
     "execution_count": 18,
     "metadata": {},
     "output_type": "execute_result"
    }
   ],
   "source": [
    "Food_County_Sales.head()"
   ]
  },
  {
   "cell_type": "markdown",
   "metadata": {},
   "source": [
    "## Save MN Sales data for each industry by county"
   ]
  },
  {
   "cell_type": "code",
   "execution_count": 9,
   "metadata": {
    "collapsed": true
   },
   "outputs": [],
   "source": [
    "County_Names = MN_df.COUNTY.unique().tolist()"
   ]
  },
  {
   "cell_type": "code",
   "execution_count": 11,
   "metadata": {},
   "outputs": [],
   "source": [
    "for industry_name in Industry_Names:\n",
    "    \n",
    "    df = MN_df[MN_df.INDUSTRY == industry_name]\n",
    "    \n",
    "    Industry_County = df.COUNTY.tolist()      \n",
    "\n",
    "    Industry_County_Sales = df[['COUNTY', 'GROSS SALES']]\n",
    "\n",
    "    Industry_County_Sales.set_index('COUNTY', inplace=True)\n",
    "\n",
    "    path1 = r'C:\\Users\\PL_Dell3668_One\\Desktop\\MN_Industry\\Corr_Industry\\Industry_Sales_Data\\Industry_Sales.xlsx'\n",
    "    \n",
    "#     add_sheet_fnc(path1, Industry_County_Sales,industry_name)"
   ]
  },
  {
   "cell_type": "markdown",
   "metadata": {},
   "source": [
    "# Load our raw data by County"
   ]
  },
  {
   "cell_type": "code",
   "execution_count": 12,
   "metadata": {},
   "outputs": [],
   "source": [
    "# load our data\n",
    "\n",
    "Raw_Data = pd.ExcelFile(r'C:\\Users\\PL_Dell3668_One\\Desktop\\MN_Industry\\Corr_Industry\\Raw_Data.xlsx')\n",
    "\n",
    "Industry_Sales_Data = pd.ExcelFile(r'C:\\Users\\PL_Dell3668_One\\Desktop\\MN_Industry\\Corr_Industry\\Industry_Sales_Data\\Industry_Sales.xlsx')"
   ]
  },
  {
   "cell_type": "markdown",
   "metadata": {},
   "source": [
    "# Process Indices"
   ]
  },
  {
   "cell_type": "code",
   "execution_count": 13,
   "metadata": {
    "collapsed": true
   },
   "outputs": [],
   "source": [
    "sheetnames = Raw_Data.sheet_names\n",
    "\n",
    "sheetnames.remove('Nat_Frn_Popn')\n",
    "\n",
    "indices_names = sheetnames[0:8]"
   ]
  },
  {
   "cell_type": "code",
   "execution_count": 20,
   "metadata": {},
   "outputs": [],
   "source": [
    "for industry_name in Industry_Names:\n",
    "    \n",
    "#     writer = pd.ExcelWriter(industry_name+'.xlsx', engine='xlsxwriter')\n",
    "    \n",
    "    sales_df = MN_df[MN_df.INDUSTRY == industry_name]\n",
    "    \n",
    "    Industry_County = sales_df.COUNTY.tolist()\n",
    "    \n",
    "#     path_raw = r'C:\\Users\\PL_Dell3668_One\\Desktop\\MN_Industry\\Corr_Industry\\Industry_Raw_Data\\Indices_Industry'\n",
    "        \n",
    "#     writer_raw = pd.ExcelWriter(path_raw+'\\\\'+industry_name+'.xlsx', engine='xlsxwriter')\n",
    "    \n",
    "    path_corr = r'C:\\Users\\PL_Dell3668_One\\Desktop\\MN_Industry\\Corr_Industry\\Industry_Correlation_Data\\Indices_Industry'\n",
    "        \n",
    "    writer_corr = pd.ExcelWriter(path_corr+'\\\\'+industry_name+'.xlsx', engine='xlsxwriter')\n",
    "    \n",
    "#     industry_sales_df = Industry_Sales_Data.parse(industry_name)\n",
    "\n",
    "    industry_sales_df = sales_df[['COUNTY', 'GROSS SALES']]\n",
    "    \n",
    "    for sheetname in indices_names:\n",
    "        \n",
    "        raw_df = Raw_Data.parse(sheetname)\n",
    "        \n",
    "        raw_df.set_index('County', inplace=True)\n",
    "    \n",
    "        raw_df = raw_df.loc[Industry_County]\n",
    "        \n",
    "#         raw_df.to_excel(writer_raw, sheet_name=sheetname)\n",
    "\n",
    "        corr_df = pd.DataFrame()       \n",
    "\n",
    "        corr_df['Correlation Coefficient'] = raw_df[raw_df.columns[:]].apply(lambda x: x.corr(industry_sales_df['GROSS SALES']))\n",
    "                \n",
    "        corr_df.to_excel(writer_corr, sheet_name=sheetname)       "
   ]
  },
  {
   "cell_type": "code",
   "execution_count": null,
   "metadata": {},
   "outputs": [],
   "source": [
    "# industry_sales_df = Industry_Sales_Data.parse('311 MFG -FOOD')\n",
    "\n",
    "# industry_sales_df.head()"
   ]
  },
  {
   "cell_type": "code",
   "execution_count": null,
   "metadata": {},
   "outputs": [],
   "source": [
    "# sales_df = MN_df[MN_df.INDUSTRY == '311 MFG -FOOD']\n",
    "    \n",
    "# sales_df.head()"
   ]
  },
  {
   "cell_type": "code",
   "execution_count": null,
   "metadata": {},
   "outputs": [],
   "source": [
    "# Industry_County = sales_df.COUNTY.tolist()\n",
    "# Industry_County"
   ]
  },
  {
   "cell_type": "code",
   "execution_count": null,
   "metadata": {},
   "outputs": [],
   "source": [
    "# raw_df = Raw_Data.parse('JCI Monthly')\n",
    "# raw_df.set_index('County', inplace=True)\n",
    "# raw_df = raw_df.loc[Industry_County]\n",
    "# raw_df.head()"
   ]
  },
  {
   "cell_type": "code",
   "execution_count": null,
   "metadata": {},
   "outputs": [],
   "source": [
    "# raw_df = raw_df.astype('float64')\n",
    "# industry_sales_df = industry_sales_df['GROSS SALES'].astype('float64')\n",
    "# raw_df.head()"
   ]
  },
  {
   "cell_type": "code",
   "execution_count": 14,
   "metadata": {
    "collapsed": true
   },
   "outputs": [],
   "source": [
    "# corr_df = pd.DataFrame()"
   ]
  },
  {
   "cell_type": "code",
   "execution_count": null,
   "metadata": {},
   "outputs": [],
   "source": [
    "# corr_df['Correlation Coefficient'] = raw_df[raw_df.columns[:]].apply(lambda x: x.corrwith(industry_sales_df['GROSS SALES']))\n",
    "\n",
    "# corr_df"
   ]
  },
  {
   "cell_type": "code",
   "execution_count": null,
   "metadata": {
    "collapsed": true
   },
   "outputs": [],
   "source": [
    "def gen_indices_data(path_raw, path_corr, sheetname, raw_data):\n",
    "    \n",
    "    df = raw_data.parse(sheetname)\n",
    "    \n",
    "    df.set_index('County', inplace=True)\n",
    "    \n",
    "    df = df.loc[Food_County]\n",
    "    \n",
    "    add_sheet_fnc(path_raw, df, sheetname)\n",
    "    \n",
    "    corr_df = pd.DataFrame()\n",
    "\n",
    "    corr_df['Correlation Coefficient'] = df[df.columns[:]].apply(lambda x: x.corr(Food_County_Sales['GROSS SALES']))\n",
    "\n",
    "    add_sheet_fnc(path_corr, corr_df, sheetname)"
   ]
  },
  {
   "cell_type": "code",
   "execution_count": null,
   "metadata": {
    "collapsed": true
   },
   "outputs": [],
   "source": [
    "sheetnames = Raw_Data.sheet_names\n",
    "\n",
    "sheetnames.remove('Nat_Frn_Popn')\n",
    "\n",
    "indices_names = sheetnames[0:8]"
   ]
  },
  {
   "cell_type": "code",
   "execution_count": null,
   "metadata": {
    "collapsed": true
   },
   "outputs": [],
   "source": [
    "path1 = r'C:\\Users\\PL_Dell3668_One\\Desktop\\MN_Industry\\Corr_Industry\\Industry_Raw_Data\\Food\\Indices.xlsx'\n",
    "\n",
    "path2 = r'C:\\Users\\PL_Dell3668_One\\Desktop\\MN_Industry\\Corr_Industry\\Industry_Correlation_Data\\Food\\Indices_Corr.xlsx'\n",
    "\n",
    "for sheetname in indices_names:\n",
    "    \n",
    "    gen_indices_data(path1, path2, sheetname, Raw_Data)"
   ]
  },
  {
   "cell_type": "code",
   "execution_count": null,
   "metadata": {
    "collapsed": true
   },
   "outputs": [],
   "source": []
  },
  {
   "cell_type": "markdown",
   "metadata": {},
   "source": [
    "# Process Category Dataset"
   ]
  },
  {
   "cell_type": "code",
   "execution_count": null,
   "metadata": {
    "collapsed": true
   },
   "outputs": [],
   "source": [
    "def create_Categories_Data(path_raw, path_corr, raw_data, sheetname):\n",
    "\n",
    "    df = raw_data.parse(sheetname)\n",
    "    \n",
    "    variable_names = df.loc[0][1:]\n",
    "\n",
    "    df.set_index('County', inplace=True)\n",
    "    \n",
    "    df = df.loc[Food_County]\n",
    "    \n",
    "    raw_df = df.reset_index()\n",
    "\n",
    "    raw_df.loc[-1] = variable_names\n",
    "\n",
    "    raw_df.index = raw_df.index+1\n",
    "\n",
    "    raw_df = raw_df.sort_index()\n",
    "    \n",
    "    df = df.astype('float64')\n",
    "\n",
    "    add_sheet_fnc(path_raw, raw_df,sheetname)\n",
    "    \n",
    "    corr_df = pd.DataFrame()\n",
    "    \n",
    "    corr_df['Variable Name'] = variable_names\n",
    "\n",
    "    corr_df['Correlation Coefficient'] = df[df.columns[:]].apply(lambda x: x.corr(Food_County_Sales['GROSS SALES']))\n",
    "\n",
    "    add_sheet_fnc(path_corr, corr_df, sheetname)"
   ]
  },
  {
   "cell_type": "code",
   "execution_count": null,
   "metadata": {
    "collapsed": true
   },
   "outputs": [],
   "source": [
    "category_names = sheetnames[9:]"
   ]
  },
  {
   "cell_type": "code",
   "execution_count": null,
   "metadata": {
    "collapsed": true
   },
   "outputs": [],
   "source": [
    "path1 = r'C:\\Users\\PL_Dell3668_One\\Desktop\\MN_Industry\\Industry_Raw_Data\\Food\\Categories.xlsx'\n",
    "\n",
    "path2 = r'C:\\Users\\PL_Dell3668_One\\Desktop\\MN_Industry\\Industry_Correlation_Data\\Food\\Categories_Corr.xlsx'"
   ]
  },
  {
   "cell_type": "code",
   "execution_count": null,
   "metadata": {
    "collapsed": true
   },
   "outputs": [],
   "source": [
    "for sheetname in category_names:\n",
    "    \n",
    "    create_Categories_Data(path1, path2, Raw_Data, sheetname)"
   ]
  },
  {
   "cell_type": "code",
   "execution_count": null,
   "metadata": {
    "collapsed": true
   },
   "outputs": [],
   "source": []
  }
 ],
 "metadata": {
  "kernelspec": {
   "display_name": "Python 3",
   "language": "python",
   "name": "python3"
  },
  "language_info": {
   "codemirror_mode": {
    "name": "ipython",
    "version": 3
   },
   "file_extension": ".py",
   "mimetype": "text/x-python",
   "name": "python",
   "nbconvert_exporter": "python",
   "pygments_lexer": "ipython3",
   "version": "3.6.3"
  }
 },
 "nbformat": 4,
 "nbformat_minor": 2
}
