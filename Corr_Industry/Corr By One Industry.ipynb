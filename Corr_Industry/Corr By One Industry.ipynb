{
 "cells": [
  {
   "cell_type": "code",
   "execution_count": 1,
   "metadata": {
    "collapsed": true
   },
   "outputs": [],
   "source": [
    "import pandas as pd\n",
    "\n",
    "import numpy as np\n",
    "\n",
    "import xlsxwriter, os\n",
    "\n",
    "import matplotlib.pyplot as plt\n",
    "\n",
    "%matplotlib inline\n",
    "\n",
    "from openpyxl import load_workbook\n",
    "\n",
    "from sklearn import preprocessing"
   ]
  },
  {
   "cell_type": "code",
   "execution_count": 2,
   "metadata": {
    "collapsed": true
   },
   "outputs": [],
   "source": [
    "# save sales by industry into excel files\n",
    "\n",
    "def create_excel_fnc(path, df, sheetname):\n",
    "    \n",
    "    writer = pd.ExcelWriter(path)\n",
    "    \n",
    "    df.to_excel(writer, sheetname)\n",
    "    \n",
    "    writer.save()\n",
    "    \n",
    "def add_sheet_fnc(path, df,sheetname):\n",
    "    \n",
    "    book = load_workbook(path)\n",
    "    \n",
    "    writer = pd.ExcelWriter(path, engine='openpyxl')\n",
    "    \n",
    "    writer.book = book\n",
    "    \n",
    "    df.to_excel(writer, sheet_name=sheetname)\n",
    "    \n",
    "    writer.save()\n",
    "    \n",
    "    writer.close()"
   ]
  },
  {
   "cell_type": "markdown",
   "metadata": {},
   "source": [
    "# Process MN Industry 2015 Dataset"
   ]
  },
  {
   "cell_type": "code",
   "execution_count": 3,
   "metadata": {
    "collapsed": true
   },
   "outputs": [],
   "source": [
    "# load MN Industry Dataset\n",
    "\n",
    "MN_df = pd.read_excel(os.getcwd()+r'\\MN_Data\\MN_Industry2015.xls')"
   ]
  },
  {
   "cell_type": "code",
   "execution_count": 4,
   "metadata": {
    "collapsed": true
   },
   "outputs": [],
   "source": [
    "# drop unexpected rows\n",
    "\n",
    "MN_df = MN_df[MN_df.COUNTY != 'NON-MINNESOTA CO']"
   ]
  },
  {
   "cell_type": "code",
   "execution_count": 5,
   "metadata": {
    "collapsed": true
   },
   "outputs": [],
   "source": [
    "# extract all industry names\n",
    "\n",
    "Industry_Names = MN_df.INDUSTRY.unique()"
   ]
  },
  {
   "cell_type": "code",
   "execution_count": 7,
   "metadata": {},
   "outputs": [
    {
     "data": {
      "text/plain": [
       "'236 CONSTRUCT -BUILDINGS'"
      ]
     },
     "execution_count": 7,
     "metadata": {},
     "output_type": "execute_result"
    }
   ],
   "source": [
    "Industry_Names[0]"
   ]
  },
  {
   "cell_type": "code",
   "execution_count": 6,
   "metadata": {
    "collapsed": true
   },
   "outputs": [],
   "source": [
    "Industry_Names[33] = '999 UNDESIGNATED or SUPPRESSED'"
   ]
  },
  {
   "cell_type": "code",
   "execution_count": 8,
   "metadata": {
    "collapsed": true
   },
   "outputs": [],
   "source": [
    "Construct_df = MN_df[MN_df.INDUSTRY == Industry_Names[0]]\n",
    "    \n",
    "Construct_County = Construct_df.COUNTY.tolist()"
   ]
  },
  {
   "cell_type": "code",
   "execution_count": 9,
   "metadata": {
    "collapsed": true
   },
   "outputs": [],
   "source": [
    "Construct_County_Sales = Construct_df[['COUNTY', 'GROSS SALES']]"
   ]
  },
  {
   "cell_type": "code",
   "execution_count": 35,
   "metadata": {
    "collapsed": true
   },
   "outputs": [],
   "source": [
    "Construct_County_Sales.set_index('COUNTY', inplace=True)"
   ]
  },
  {
   "cell_type": "code",
   "execution_count": 38,
   "metadata": {},
   "outputs": [],
   "source": [
    "Construct_County_Sales = Construct_County_Sales.astype('float64')"
   ]
  },
  {
   "cell_type": "markdown",
   "metadata": {},
   "source": [
    "# Load our raw data by County"
   ]
  },
  {
   "cell_type": "code",
   "execution_count": 10,
   "metadata": {
    "collapsed": true
   },
   "outputs": [],
   "source": [
    "# load our data\n",
    "\n",
    "Raw_Data = pd.ExcelFile(r'C:\\Users\\PL_Dell3668_One\\Desktop\\MN_Industry\\Corr_Industry\\Raw_Data.xlsx')"
   ]
  },
  {
   "cell_type": "markdown",
   "metadata": {},
   "source": [
    "# Process Indices"
   ]
  },
  {
   "cell_type": "code",
   "execution_count": 11,
   "metadata": {
    "collapsed": true
   },
   "outputs": [],
   "source": [
    "sheetnames = Raw_Data.sheet_names\n",
    "\n",
    "sheetnames.remove('Nat_Frn_Popn')\n",
    "\n",
    "indices_names = sheetnames[0:8]"
   ]
  },
  {
   "cell_type": "code",
   "execution_count": 40,
   "metadata": {
    "collapsed": true
   },
   "outputs": [],
   "source": [
    "def gen_indices_data(path_raw, path_corr, sheetname, raw_data):\n",
    "    \n",
    "    df = raw_data.parse(sheetname)\n",
    "    \n",
    "    df.set_index('County', inplace=True)\n",
    "    \n",
    "    df = df.loc[Construct_County] # need to change for each industry\n",
    "    \n",
    "    add_sheet_fnc(path_raw, df, sheetname)\n",
    "    \n",
    "    corr_df = pd.DataFrame()\n",
    "    \n",
    "    # need to change path for each Industry\n",
    "\n",
    "    corr_df['Correlation Coefficient'] = df[df.columns[:]].apply(lambda x: x.corr(Construct_County_Sales['GROSS SALES']))\n",
    "\n",
    "    add_sheet_fnc(path_corr, corr_df, sheetname)"
   ]
  },
  {
   "cell_type": "code",
   "execution_count": 41,
   "metadata": {
    "collapsed": true
   },
   "outputs": [],
   "source": [
    "sheetnames = Raw_Data.sheet_names\n",
    "\n",
    "sheetnames.remove('Nat_Frn_Popn')\n",
    "\n",
    "indices_names = sheetnames[0:8]"
   ]
  },
  {
   "cell_type": "code",
   "execution_count": 42,
   "metadata": {},
   "outputs": [],
   "source": [
    "# need to change path for each Industry\n",
    "\n",
    "path1 = r'C:\\Users\\PL_Dell3668_One\\Desktop\\MN_Industry\\Corr_Industry\\Industry_Raw_Data\\Construct\\Indices.xlsx'\n",
    "\n",
    "path2 = r'C:\\Users\\PL_Dell3668_One\\Desktop\\MN_Industry\\Corr_Industry\\Industry_Correlation_Data\\Construct\\Indices_Corr.xlsx'\n",
    "\n",
    "for sheetname in indices_names:\n",
    "    \n",
    "    gen_indices_data(path1, path2, sheetname, Raw_Data)"
   ]
  },
  {
   "cell_type": "markdown",
   "metadata": {},
   "source": [
    "# Process Category Dataset"
   ]
  },
  {
   "cell_type": "code",
   "execution_count": 47,
   "metadata": {
    "collapsed": true
   },
   "outputs": [],
   "source": [
    "def create_Categories_Data(path_raw, path_corr, raw_data, sheetname):\n",
    "\n",
    "    df = raw_data.parse(sheetname)\n",
    "    \n",
    "    variable_names = df.loc[0][1:]\n",
    "\n",
    "    df.set_index('County', inplace=True)\n",
    "    \n",
    "    df = df.loc[Construct_County]\n",
    "    \n",
    "    raw_df = df.reset_index()\n",
    "\n",
    "    raw_df.loc[-1] = variable_names\n",
    "\n",
    "    raw_df.index = raw_df.index+1\n",
    "\n",
    "    raw_df = raw_df.sort_index()\n",
    "    \n",
    "    df = df.astype('float64')\n",
    "\n",
    "    add_sheet_fnc(path_raw, raw_df,sheetname)\n",
    "    \n",
    "    corr_df = pd.DataFrame()\n",
    "    \n",
    "    corr_df['Variable Name'] = variable_names\n",
    "    \n",
    "    # need to change for each Industry\n",
    "\n",
    "    corr_df['Correlation Coefficient'] = df[df.columns[:]].apply(lambda x: x.corr(Construct_County_Sales['GROSS SALES']))\n",
    "\n",
    "    add_sheet_fnc(path_corr, corr_df, sheetname)"
   ]
  },
  {
   "cell_type": "code",
   "execution_count": 48,
   "metadata": {
    "collapsed": true
   },
   "outputs": [],
   "source": [
    "category_names = sheetnames[9:]"
   ]
  },
  {
   "cell_type": "code",
   "execution_count": 49,
   "metadata": {
    "collapsed": true
   },
   "outputs": [],
   "source": [
    "# need to change path for each Industry\n",
    "\n",
    "path1 = r'C:\\Users\\PL_Dell3668_One\\Desktop\\MN_Industry\\Corr_Industry\\Industry_Raw_Data\\Construct\\Categories.xlsx'\n",
    "\n",
    "path2 = r'C:\\Users\\PL_Dell3668_One\\Desktop\\MN_Industry\\Corr_Industry\\Industry_Correlation_Data\\Construct\\Categories_Corr.xlsx'"
   ]
  },
  {
   "cell_type": "code",
   "execution_count": 50,
   "metadata": {},
   "outputs": [],
   "source": [
    "for sheetname in category_names:\n",
    "    \n",
    "    create_Categories_Data(path1, path2, Raw_Data, sheetname)"
   ]
  },
  {
   "cell_type": "code",
   "execution_count": null,
   "metadata": {
    "collapsed": true
   },
   "outputs": [],
   "source": []
  }
 ],
 "metadata": {
  "kernelspec": {
   "display_name": "Python 3",
   "language": "python",
   "name": "python3"
  },
  "language_info": {
   "codemirror_mode": {
    "name": "ipython",
    "version": 3
   },
   "file_extension": ".py",
   "mimetype": "text/x-python",
   "name": "python",
   "nbconvert_exporter": "python",
   "pygments_lexer": "ipython3",
   "version": "3.6.3"
  }
 },
 "nbformat": 4,
 "nbformat_minor": 2
}
