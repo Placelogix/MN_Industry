{
 "cells": [
  {
   "cell_type": "code",
   "execution_count": 1,
   "metadata": {
    "collapsed": true
   },
   "outputs": [],
   "source": [
    "import pandas as pd\n",
    "\n",
    "import numpy as np\n",
    "\n",
    "import xlsxwriter, os\n",
    "\n",
    "import matplotlib.pyplot as plt\n",
    "\n",
    "%matplotlib inline\n",
    "\n",
    "from sklearn import preprocessing"
   ]
  },
  {
   "cell_type": "code",
   "execution_count": 3,
   "metadata": {
    "collapsed": true
   },
   "outputs": [],
   "source": [
    "def gen_norm_indices(sheetname):\n",
    "    \n",
    "    Raw_Data = file.parse(sheetname)\n",
    "    \n",
    "    Raw_Data.set_index('County', inplace=True)\n",
    "    \n",
    "    cols = Raw_Data.columns\n",
    "    \n",
    "    Raw_Data_vals = Raw_Data.values\n",
    "    \n",
    "    Raw_Data_norm = norm_fnc(Raw_Data_vals)\n",
    "\n",
    "    Raw_Data_norm.columns = [cols]\n",
    "    \n",
    "    return Raw_Data_norm\n",
    "\n",
    "def norm_fnc(arr):\n",
    "    \n",
    "    min_max_scaler = preprocessing.MinMaxScaler()\n",
    "    \n",
    "    arr = min_max_scaler.fit_transform(arr)\n",
    "    \n",
    "    df = pd.DataFrame(arr)\n",
    "    \n",
    "    return df"
   ]
  },
  {
   "cell_type": "markdown",
   "metadata": {},
   "source": [
    "# Plot Gross Sales by Industry by County"
   ]
  },
  {
   "cell_type": "code",
   "execution_count": 8,
   "metadata": {},
   "outputs": [
    {
     "data": {
      "text/html": [
       "<div>\n",
       "<style>\n",
       "    .dataframe thead tr:only-child th {\n",
       "        text-align: right;\n",
       "    }\n",
       "\n",
       "    .dataframe thead th {\n",
       "        text-align: left;\n",
       "    }\n",
       "\n",
       "    .dataframe tbody tr th {\n",
       "        vertical-align: top;\n",
       "    }\n",
       "</style>\n",
       "<table border=\"1\" class=\"dataframe\">\n",
       "  <thead>\n",
       "    <tr style=\"text-align: right;\">\n",
       "      <th></th>\n",
       "      <th>COUNTY</th>\n",
       "      <th>GROSS SALES</th>\n",
       "    </tr>\n",
       "  </thead>\n",
       "  <tbody>\n",
       "    <tr>\n",
       "      <th>0</th>\n",
       "      <td>AITKIN</td>\n",
       "      <td>3502899</td>\n",
       "    </tr>\n",
       "    <tr>\n",
       "      <th>1</th>\n",
       "      <td>ANOKA</td>\n",
       "      <td>7361521</td>\n",
       "    </tr>\n",
       "    <tr>\n",
       "      <th>2</th>\n",
       "      <td>BECKER</td>\n",
       "      <td>750425</td>\n",
       "    </tr>\n",
       "    <tr>\n",
       "      <th>3</th>\n",
       "      <td>BELTRAMI</td>\n",
       "      <td>294666</td>\n",
       "    </tr>\n",
       "    <tr>\n",
       "      <th>4</th>\n",
       "      <td>BLUE EARTH</td>\n",
       "      <td>1383165880</td>\n",
       "    </tr>\n",
       "  </tbody>\n",
       "</table>\n",
       "</div>"
      ],
      "text/plain": [
       "       COUNTY  GROSS SALES\n",
       "0      AITKIN      3502899\n",
       "1       ANOKA      7361521\n",
       "2      BECKER       750425\n",
       "3    BELTRAMI       294666\n",
       "4  BLUE EARTH   1383165880"
      ]
     },
     "execution_count": 8,
     "metadata": {},
     "output_type": "execute_result"
    }
   ],
   "source": [
    "# load Gross Sales by Industry by County\n",
    "\n",
    "file = pd.ExcelFile(r'C:\\Users\\PL_Dell3668_One\\Desktop\\MN_Industry\\Corr_Industry\\Industry_Sales_Data\\Industry_Sales.xlsx')\n",
    "\n",
    "# change sheet name to get each data by Industry\n",
    "\n",
    "Industry_Sales = file.parse('311 MFG -FOOD')\n",
    "\n",
    "Industry_County_list = Industry_Sales['COUNTY']\n",
    "\n",
    "Industry_Sales.head()"
   ]
  },
  {
   "cell_type": "code",
   "execution_count": 10,
   "metadata": {},
   "outputs": [],
   "source": [
    "# Industry_County_list"
   ]
  },
  {
   "cell_type": "code",
   "execution_count": 4,
   "metadata": {},
   "outputs": [
    {
     "name": "stderr",
     "output_type": "stream",
     "text": [
      "C:\\Anaconda\\lib\\site-packages\\sklearn\\utils\\validation.py:475: DataConversionWarning: Data with input dtype int64 was converted to float64 by MinMaxScaler.\n",
      "  warnings.warn(msg, DataConversionWarning)\n"
     ]
    }
   ],
   "source": [
    "# Normalization\n",
    "\n",
    "Industry_Sales = Industry_Sales.set_index('COUNTY')\n",
    "\n",
    "Industry_Sales_vals = Industry_Sales.values\n",
    "\n",
    "Industry_Sales_norm = norm_fnc(Industry_Sales_vals)\n",
    "\n",
    "Industry_Sales_norm.columns = ['Gross Sales']"
   ]
  },
  {
   "cell_type": "code",
   "execution_count": 5,
   "metadata": {},
   "outputs": [
    {
     "data": {
      "text/html": [
       "<div>\n",
       "<style>\n",
       "    .dataframe thead tr:only-child th {\n",
       "        text-align: right;\n",
       "    }\n",
       "\n",
       "    .dataframe thead th {\n",
       "        text-align: left;\n",
       "    }\n",
       "\n",
       "    .dataframe tbody tr th {\n",
       "        vertical-align: top;\n",
       "    }\n",
       "</style>\n",
       "<table border=\"1\" class=\"dataframe\">\n",
       "  <thead>\n",
       "    <tr style=\"text-align: right;\">\n",
       "      <th></th>\n",
       "      <th>Gross Sales</th>\n",
       "    </tr>\n",
       "  </thead>\n",
       "  <tbody>\n",
       "    <tr>\n",
       "      <th>0</th>\n",
       "      <td>0.00232</td>\n",
       "    </tr>\n",
       "    <tr>\n",
       "      <th>1</th>\n",
       "      <td>0.00511</td>\n",
       "    </tr>\n",
       "    <tr>\n",
       "      <th>2</th>\n",
       "      <td>0.00033</td>\n",
       "    </tr>\n",
       "    <tr>\n",
       "      <th>3</th>\n",
       "      <td>0.00000</td>\n",
       "    </tr>\n",
       "    <tr>\n",
       "      <th>4</th>\n",
       "      <td>1.00000</td>\n",
       "    </tr>\n",
       "  </tbody>\n",
       "</table>\n",
       "</div>"
      ],
      "text/plain": [
       "   Gross Sales\n",
       "0      0.00232\n",
       "1      0.00511\n",
       "2      0.00033\n",
       "3      0.00000\n",
       "4      1.00000"
      ]
     },
     "execution_count": 5,
     "metadata": {},
     "output_type": "execute_result"
    }
   ],
   "source": [
    "Industry_Sales_norm.head()"
   ]
  },
  {
   "cell_type": "code",
   "execution_count": 6,
   "metadata": {},
   "outputs": [
    {
     "data": {
      "text/plain": [
       "Text(0.5,1,'Food Industry Gross Sales for each County')"
      ]
     },
     "execution_count": 6,
     "metadata": {},
     "output_type": "execute_result"
    },
    {
     "data": {
      "image/png": "[encoded data removed]",
      "text/plain": [
       "<matplotlib.figure.Figure at 0x1967ef1e978>"
      ]
     },
     "metadata": {},
     "output_type": "display_data"
    }
   ],
   "source": [
    "# Gross Sales for each county.\n",
    "\n",
    "plt.plot(Industry_Sales_norm['Gross Sales'],'b')\n",
    "\n",
    "plt.xlabel('County')\n",
    "\n",
    "plt.ylabel('Gross Sales')\n",
    "\n",
    "plt.title('Food Industry Gross Sales for each County')"
   ]
  },
  {
   "cell_type": "code",
   "execution_count": null,
   "metadata": {
    "collapsed": true
   },
   "outputs": [],
   "source": []
  }
 ],
 "metadata": {
  "kernelspec": {
   "display_name": "Python 3",
   "language": "python",
   "name": "python3"
  },
  "language_info": {
   "codemirror_mode": {
    "name": "ipython",
    "version": 3
   },
   "file_extension": ".py",
   "mimetype": "text/x-python",
   "name": "python",
   "nbconvert_exporter": "python",
   "pygments_lexer": "ipython3",
   "version": "3.6.3"
  }
 },
 "nbformat": 4,
 "nbformat_minor": 2
}
