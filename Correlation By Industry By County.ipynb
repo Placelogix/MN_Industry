{
 "cells": [
  {
   "cell_type": "code",
   "execution_count": 22,
   "metadata": {
    "collapsed": true
   },
   "outputs": [],
   "source": [
    "import pandas as pd\n",
    "\n",
    "import numpy as np\n",
    "\n",
    "import xlsxwriter, os\n",
    "\n",
    "from collections import defaultdict\n",
    "\n",
    "import matplotlib.pyplot as plt\n",
    "\n",
    "%matplotlib inline\n",
    "\n",
    "from openpyxl import load_workbook\n",
    "\n",
    "from sklearn import preprocessing"
   ]
  },
  {
   "cell_type": "code",
   "execution_count": 98,
   "metadata": {
    "collapsed": true
   },
   "outputs": [],
   "source": [
    "# save sales by industry into excel files\n",
    "\n",
    "def create_excel_fnc(path, df, sheetname):\n",
    "    \n",
    "    writer = pd.ExcelWriter(path)\n",
    "    \n",
    "    df.to_excel(writer, sheetname)\n",
    "    \n",
    "    writer.save()\n",
    "    \n",
    "def add_sheet_fnc(path, df,sheetname):\n",
    "    \n",
    "    book = load_workbook(path)\n",
    "    \n",
    "    writer = pd.ExcelWriter(path, engine='openpyxl')\n",
    "    \n",
    "    writer.book = book\n",
    "    \n",
    "    df.to_excel(writer, sheet_name=sheetname)\n",
    "    \n",
    "    writer.save()\n",
    "    \n",
    "    writer.close()"
   ]
  },
  {
   "cell_type": "markdown",
   "metadata": {},
   "source": [
    "# Process MN Industry 2015 Dataset"
   ]
  },
  {
   "cell_type": "code",
   "execution_count": 38,
   "metadata": {},
   "outputs": [],
   "source": [
    "# load MN Industry Dataset\n",
    "\n",
    "MN_df = pd.read_excel(os.getcwd()+r'\\MN_Data\\MN_Industry2015.xls')"
   ]
  },
  {
   "cell_type": "code",
   "execution_count": 39,
   "metadata": {},
   "outputs": [],
   "source": [
    "# drop unexpected rows\n",
    "\n",
    "MN_df = MN_df[MN_df.COUNTY != 'NON-MINNESOTA CO']"
   ]
  },
  {
   "cell_type": "code",
   "execution_count": 41,
   "metadata": {
    "collapsed": true
   },
   "outputs": [],
   "source": [
    "# extract all industry names\n",
    "\n",
    "Industry_Names = MN_df.INDUSTRY.unique()"
   ]
  },
  {
   "cell_type": "code",
   "execution_count": 53,
   "metadata": {},
   "outputs": [],
   "source": [
    "County_Names = MN_df.COUNTY.unique().tolist()"
   ]
  },
  {
   "cell_type": "code",
   "execution_count": 113,
   "metadata": {},
   "outputs": [],
   "source": [
    "# chosse one industry to do analysis by county\n",
    "\n",
    "Industry_name = Industry_Names[2]"
   ]
  },
  {
   "cell_type": "code",
   "execution_count": 43,
   "metadata": {},
   "outputs": [
    {
     "data": {
      "text/html": [
       "<div>\n",
       "<style>\n",
       "    .dataframe thead tr:only-child th {\n",
       "        text-align: right;\n",
       "    }\n",
       "\n",
       "    .dataframe thead th {\n",
       "        text-align: left;\n",
       "    }\n",
       "\n",
       "    .dataframe tbody tr th {\n",
       "        vertical-align: top;\n",
       "    }\n",
       "</style>\n",
       "<table border=\"1\" class=\"dataframe\">\n",
       "  <thead>\n",
       "    <tr style=\"text-align: right;\">\n",
       "      <th></th>\n",
       "      <th>YEAR</th>\n",
       "      <th>COUNTY</th>\n",
       "      <th>INDUSTRY</th>\n",
       "      <th>GROSS SALES</th>\n",
       "      <th>TAXABLE SALES</th>\n",
       "      <th>SALES TAX</th>\n",
       "      <th>USE TAX</th>\n",
       "      <th>TOTAL TAX</th>\n",
       "      <th>NUMBER</th>\n",
       "    </tr>\n",
       "  </thead>\n",
       "  <tbody>\n",
       "    <tr>\n",
       "      <th>2</th>\n",
       "      <td>2015</td>\n",
       "      <td>AITKIN</td>\n",
       "      <td>311 MFG -FOOD</td>\n",
       "      <td>3502899</td>\n",
       "      <td>54989</td>\n",
       "      <td>3781</td>\n",
       "      <td>1</td>\n",
       "      <td>3782</td>\n",
       "      <td>4</td>\n",
       "    </tr>\n",
       "    <tr>\n",
       "      <th>42</th>\n",
       "      <td>2015</td>\n",
       "      <td>ANOKA</td>\n",
       "      <td>311 MFG -FOOD</td>\n",
       "      <td>7361521</td>\n",
       "      <td>1317029</td>\n",
       "      <td>90546</td>\n",
       "      <td>372</td>\n",
       "      <td>90918</td>\n",
       "      <td>15</td>\n",
       "    </tr>\n",
       "    <tr>\n",
       "      <th>113</th>\n",
       "      <td>2015</td>\n",
       "      <td>BECKER</td>\n",
       "      <td>311 MFG -FOOD</td>\n",
       "      <td>750425</td>\n",
       "      <td>15032</td>\n",
       "      <td>1034</td>\n",
       "      <td>187</td>\n",
       "      <td>1221</td>\n",
       "      <td>5</td>\n",
       "    </tr>\n",
       "    <tr>\n",
       "      <th>160</th>\n",
       "      <td>2015</td>\n",
       "      <td>BELTRAMI</td>\n",
       "      <td>311 MFG -FOOD</td>\n",
       "      <td>294666</td>\n",
       "      <td>235929</td>\n",
       "      <td>16221</td>\n",
       "      <td>206</td>\n",
       "      <td>16427</td>\n",
       "      <td>6</td>\n",
       "    </tr>\n",
       "    <tr>\n",
       "      <th>277</th>\n",
       "      <td>2015</td>\n",
       "      <td>BLUE EARTH</td>\n",
       "      <td>311 MFG -FOOD</td>\n",
       "      <td>1383165880</td>\n",
       "      <td>1501746</td>\n",
       "      <td>103245</td>\n",
       "      <td>19880</td>\n",
       "      <td>123125</td>\n",
       "      <td>8</td>\n",
       "    </tr>\n",
       "  </tbody>\n",
       "</table>\n",
       "</div>"
      ],
      "text/plain": [
       "     YEAR      COUNTY       INDUSTRY  GROSS SALES  TAXABLE SALES  SALES TAX  \\\n",
       "2    2015      AITKIN  311 MFG -FOOD      3502899          54989       3781   \n",
       "42   2015       ANOKA  311 MFG -FOOD      7361521        1317029      90546   \n",
       "113  2015      BECKER  311 MFG -FOOD       750425          15032       1034   \n",
       "160  2015    BELTRAMI  311 MFG -FOOD       294666         235929      16221   \n",
       "277  2015  BLUE EARTH  311 MFG -FOOD   1383165880        1501746     103245   \n",
       "\n",
       "     USE TAX  TOTAL TAX  NUMBER  \n",
       "2          1       3782       4  \n",
       "42       372      90918      15  \n",
       "113      187       1221       5  \n",
       "160      206      16427       6  \n",
       "277    19880     123125       8  "
      ]
     },
     "execution_count": 43,
     "metadata": {},
     "output_type": "execute_result"
    }
   ],
   "source": [
    "Food_df = MN_df[MN_df.INDUSTRY == '311 MFG -FOOD']\n",
    "\n",
    "Food_df.head()"
   ]
  },
  {
   "cell_type": "code",
   "execution_count": 54,
   "metadata": {},
   "outputs": [],
   "source": [
    "Food_County = Food_df.COUNTY.tolist()       # Only 42 counties have food industry\n",
    "\n",
    "Food_County_Cnt = len(Food_County)"
   ]
  },
  {
   "cell_type": "code",
   "execution_count": 56,
   "metadata": {},
   "outputs": [
    {
     "data": {
      "text/html": [
       "<div>\n",
       "<style>\n",
       "    .dataframe thead tr:only-child th {\n",
       "        text-align: right;\n",
       "    }\n",
       "\n",
       "    .dataframe thead th {\n",
       "        text-align: left;\n",
       "    }\n",
       "\n",
       "    .dataframe tbody tr th {\n",
       "        vertical-align: top;\n",
       "    }\n",
       "</style>\n",
       "<table border=\"1\" class=\"dataframe\">\n",
       "  <thead>\n",
       "    <tr style=\"text-align: right;\">\n",
       "      <th></th>\n",
       "      <th>GROSS SALES</th>\n",
       "    </tr>\n",
       "    <tr>\n",
       "      <th>COUNTY</th>\n",
       "      <th></th>\n",
       "    </tr>\n",
       "  </thead>\n",
       "  <tbody>\n",
       "    <tr>\n",
       "      <th>AITKIN</th>\n",
       "      <td>3502899</td>\n",
       "    </tr>\n",
       "    <tr>\n",
       "      <th>ANOKA</th>\n",
       "      <td>7361521</td>\n",
       "    </tr>\n",
       "    <tr>\n",
       "      <th>BECKER</th>\n",
       "      <td>750425</td>\n",
       "    </tr>\n",
       "    <tr>\n",
       "      <th>BELTRAMI</th>\n",
       "      <td>294666</td>\n",
       "    </tr>\n",
       "    <tr>\n",
       "      <th>BLUE EARTH</th>\n",
       "      <td>1383165880</td>\n",
       "    </tr>\n",
       "  </tbody>\n",
       "</table>\n",
       "</div>"
      ],
      "text/plain": [
       "            GROSS SALES\n",
       "COUNTY                 \n",
       "AITKIN          3502899\n",
       "ANOKA           7361521\n",
       "BECKER           750425\n",
       "BELTRAMI         294666\n",
       "BLUE EARTH   1383165880"
      ]
     },
     "execution_count": 56,
     "metadata": {},
     "output_type": "execute_result"
    }
   ],
   "source": [
    "# Extract Gross sales for county from food_df\n",
    "\n",
    "Food_County_Sales = Food_df[['COUNTY', 'GROSS SALES']]\n",
    "\n",
    "Food_County_Sales.set_index('COUNTY', inplace=True)\n",
    "\n",
    "Food_County_Sales.head()"
   ]
  },
  {
   "cell_type": "code",
   "execution_count": 88,
   "metadata": {},
   "outputs": [],
   "source": [
    "# save food industry into excel\n",
    "\n",
    "path1 = r'C:\\Users\\PL_Dell3668_One\\Desktop\\MN\\Industry_Sales_Data\\311 MFG -FOOD.xlsx'\n",
    "\n",
    "create_excel_fnc(path1, Food_County_Sales, '311 MFG -FOOD.xlsx')"
   ]
  },
  {
   "cell_type": "markdown",
   "metadata": {},
   "source": [
    "# Load our raw data by County"
   ]
  },
  {
   "cell_type": "code",
   "execution_count": 105,
   "metadata": {
    "collapsed": true
   },
   "outputs": [],
   "source": [
    "# load our data\n",
    "\n",
    "Raw_Data = pd.ExcelFile(r'C:\\Users\\PL_Dell3668_One\\Desktop\\MN\\Raw_Data.xlsx')"
   ]
  },
  {
   "cell_type": "markdown",
   "metadata": {},
   "source": [
    "# Process Indices"
   ]
  },
  {
   "cell_type": "code",
   "execution_count": 101,
   "metadata": {
    "collapsed": true
   },
   "outputs": [],
   "source": [
    "def gen_indices_raw_data(path_raw, path_corr, sheetname, raw_data):\n",
    "    \n",
    "    df = raw_data.parse(sheetname)\n",
    "    \n",
    "    df.set_index('County', inplace=True)\n",
    "    \n",
    "    df = df.loc[Food_County]\n",
    "    \n",
    "    add_sheet_fnc(path_raw, df, sheetname)\n",
    "    \n",
    "    corr_df = pd.DataFrame()\n",
    "\n",
    "    corr_df['Correlation Coefficient'] = df[df.columns[:]].apply(lambda x: x.corr(Food_County_Sales['GROSS SALES']))\n",
    "\n",
    "    add_sheet_fnc(path_corr, corr_df, sheetname)"
   ]
  },
  {
   "cell_type": "code",
   "execution_count": 111,
   "metadata": {
    "collapsed": true
   },
   "outputs": [],
   "source": [
    "sheetnames = Raw_Data.sheet_names\n",
    "\n",
    "indices_names = sheetnames[0:8]"
   ]
  },
  {
   "cell_type": "code",
   "execution_count": 112,
   "metadata": {},
   "outputs": [],
   "source": [
    "path1 = r'C:\\Users\\PL_Dell3668_One\\Desktop\\MN\\Industry_Raw_Data\\Food\\Indices.xlsx'\n",
    "\n",
    "path2 = r'C:\\Users\\PL_Dell3668_One\\Desktop\\MN\\Industry_Correlation_Data\\Food\\Indices_Corr.xlsx'\n",
    "\n",
    "for sheetname in indices_names:\n",
    "    \n",
    "    gen_indices_raw_data(path1, path2, sheetname, Raw_Data)"
   ]
  },
  {
   "cell_type": "code",
   "execution_count": null,
   "metadata": {},
   "outputs": [],
   "source": [
    "\n"
   ]
  },
  {
   "cell_type": "code",
   "execution_count": null,
   "metadata": {
    "collapsed": true
   },
   "outputs": [],
   "source": []
  }
 ],
 "metadata": {
  "kernelspec": {
   "display_name": "Python 3",
   "language": "python",
   "name": "python3"
  },
  "language_info": {
   "codemirror_mode": {
    "name": "ipython",
    "version": 3
   },
   "file_extension": ".py",
   "mimetype": "text/x-python",
   "name": "python",
   "nbconvert_exporter": "python",
   "pygments_lexer": "ipython3",
   "version": "3.6.3"
  }
 },
 "nbformat": 4,
 "nbformat_minor": 2
}
