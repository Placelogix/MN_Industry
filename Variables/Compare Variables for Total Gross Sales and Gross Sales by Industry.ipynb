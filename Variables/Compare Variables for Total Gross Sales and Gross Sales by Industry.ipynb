{
 "cells": [
  {
   "cell_type": "code",
   "execution_count": 1,
   "metadata": {
    "collapsed": true
   },
   "outputs": [],
   "source": [
    "import pandas as pd\n",
    "\n",
    "import numpy as np\n",
    "\n",
    "import xlsxwriter, os"
   ]
  },
  {
   "cell_type": "code",
   "execution_count": 10,
   "metadata": {
    "collapsed": true
   },
   "outputs": [],
   "source": [
    "# load variables for total gross sales\n",
    "\n",
    "tol_vars_files = [x for x in os.listdir(r'C:\\Users\\PL_Dell3668_One\\Dropbox\\MN\\Variables')]\n",
    "\n",
    "tol_path = r'C:\\Users\\PL_Dell3668_One\\Dropbox\\MN\\Variables'"
   ]
  },
  {
   "cell_type": "code",
   "execution_count": 5,
   "metadata": {},
   "outputs": [
    {
     "data": {
      "text/plain": [
       "['Extremely High Variables.xlsx',\n",
       " 'High Variables.xlsx',\n",
       " 'Medium High Variables.xlsx']"
      ]
     },
     "execution_count": 5,
     "metadata": {},
     "output_type": "execute_result"
    }
   ],
   "source": [
    "tol_vars_files"
   ]
  },
  {
   "cell_type": "code",
   "execution_count": 15,
   "metadata": {
    "collapsed": true
   },
   "outputs": [],
   "source": [
    "# define base path for variables data\n",
    "\n",
    "E_path = r'C:\\Users\\PL_Dell3668_One\\Desktop\\MN_Industry\\Variables\\Vars_Industry\\Categories_Vars\\Extremely_High_Vars'\n",
    "\n",
    "M_path = r'C:\\Users\\PL_Dell3668_One\\Desktop\\MN_Industry\\Variables\\Vars_Industry\\Categories_Vars\\Mid_High_Vars'\n",
    "\n",
    "H_path = r'C:\\Users\\PL_Dell3668_One\\Desktop\\MN_Industry\\Variables\\Vars_Industry\\Categories_Vars\\High_Vars'"
   ]
  },
  {
   "cell_type": "code",
   "execution_count": 16,
   "metadata": {
    "collapsed": true
   },
   "outputs": [],
   "source": [
    "# load variables for retail industry\n",
    "\n",
    "Retl_E_var_file = pd.ExcelFile(E_path + '\\\\' +'448 RETL -CLOTHING, ACCESSORY.xlsx')\n",
    "\n",
    "Retl_M_var_file = pd.ExcelFile(M_path + '\\\\448 RETL -CLOTHING, ACCESSORY.xlsx')\n",
    "\n",
    "Retl_H_var_file = pd.ExcelFile(H_path + '\\\\448 RETL -CLOTHING, ACCESSORY.xlsx')"
   ]
  },
  {
   "cell_type": "code",
   "execution_count": 17,
   "metadata": {
    "collapsed": true
   },
   "outputs": [],
   "source": [
    "# load variables for real estate industry\n",
    "\n",
    "Real_E_var_file = pd.ExcelFile(E_path + '\\\\531 REAL ESTATE.xlsx')\n",
    "\n",
    "Real_M_var_file = pd.ExcelFile(M_path + '\\\\531 REAL ESTATE.xlsx')\n",
    "\n",
    "Real_H_var_file = pd.ExcelFile(H_path + '\\\\531 REAL ESTATE.xlsx')"
   ]
  },
  {
   "cell_type": "markdown",
   "metadata": {},
   "source": [
    "# Compare Variable between Total Gross Sales and Gross Sales by Retail Industry"
   ]
  },
  {
   "cell_type": "code",
   "execution_count": 81,
   "metadata": {
    "collapsed": true
   },
   "outputs": [],
   "source": [
    "def cal_per_fnc(tol_file, industry_file, sheetname):\n",
    "    \n",
    "    tol_df = tol_file.parse(sheetname)\n",
    "    \n",
    "    industry_df = industry_file.parse(sheetname)\n",
    "    \n",
    "    tol_lst = tol_df['Variable Name'].tolist()\n",
    "    \n",
    "    industry_lst = industry_df['Variable Name'].tolist()\n",
    "    \n",
    "    com_lst = [x for x in industry_lst if x in tol_lst]\n",
    "    \n",
    "    per = len(com_lst)/len(industry_lst)\n",
    "    \n",
    "    return per"
   ]
  },
  {
   "cell_type": "code",
   "execution_count": 56,
   "metadata": {
    "collapsed": true
   },
   "outputs": [],
   "source": [
    "# find category names\n",
    "\n",
    "sheetnames = Real_E_var_file.sheet_names"
   ]
  },
  {
   "cell_type": "code",
   "execution_count": null,
   "metadata": {
    "collapsed": true
   },
   "outputs": [],
   "source": []
  },
  {
   "cell_type": "markdown",
   "metadata": {},
   "source": [
    "## Compare Extremely High Variables"
   ]
  },
  {
   "cell_type": "code",
   "execution_count": 57,
   "metadata": {
    "collapsed": true
   },
   "outputs": [],
   "source": [
    "Tol_E_var_file = pd.ExcelFile(tol_path+'\\\\'+tol_vars_files[0]) "
   ]
  },
  {
   "cell_type": "code",
   "execution_count": 67,
   "metadata": {},
   "outputs": [],
   "source": [
    "# Retl industry\n",
    "\n",
    "Retl_dict = {}\n",
    "\n",
    "for sheetname in sheetnames:\n",
    "    \n",
    "    Retl_dict[sheetname] = cal_per_fnc(Tol_E_var_file,Retl_E_var_file, sheetname)"
   ]
  },
  {
   "cell_type": "code",
   "execution_count": 68,
   "metadata": {
    "collapsed": true
   },
   "outputs": [],
   "source": [
    "# Real Estat Industry\n",
    "\n",
    "Real_dict = {}\n",
    "\n",
    "for sheetname in sheetnames:\n",
    "    \n",
    "    Real_dict[sheetname] = cal_per_fnc(Tol_E_var_file,Real_E_var_file, sheetname) "
   ]
  },
  {
   "cell_type": "markdown",
   "metadata": {},
   "source": [
    "## Compare Medium High Variables"
   ]
  },
  {
   "cell_type": "code",
   "execution_count": 72,
   "metadata": {
    "collapsed": true
   },
   "outputs": [],
   "source": [
    "Tol_M_var_file = pd.ExcelFile(tol_path+'\\\\'+tol_vars_files[1]) "
   ]
  },
  {
   "cell_type": "code",
   "execution_count": 82,
   "metadata": {},
   "outputs": [],
   "source": [
    "# Retl industry\n",
    "\n",
    "Retl_dict = {}\n",
    "\n",
    "for sheetname in sheetnames:\n",
    "    \n",
    "    Retl_dict[sheetname] = cal_per_fnc(Tol_M_var_file,Retl_M_var_file, sheetname)"
   ]
  },
  {
   "cell_type": "code",
   "execution_count": 83,
   "metadata": {
    "collapsed": true
   },
   "outputs": [],
   "source": [
    "# Real Estat Industry\n",
    "\n",
    "Real_dict = {}\n",
    "\n",
    "for sheetname in sheetnames:\n",
    "    \n",
    "    Real_dict[sheetname] = cal_per_fnc(Tol_M_var_file,Real_M_var_file, sheetname) "
   ]
  },
  {
   "cell_type": "code",
   "execution_count": 85,
   "metadata": {},
   "outputs": [
    {
     "data": {
      "text/plain": [
       "{'Age_Sex': 0.8409090909090909,\n",
       " 'Cmtg': 0.9178082191780822,\n",
       " 'Edu': 0.896551724137931,\n",
       " 'Empl': 0.9791666666666666,\n",
       " 'Fin_Char': 0.8444444444444444,\n",
       " 'Geo_Mob': 0.87,\n",
       " 'HH_Income': 1.0,\n",
       " 'Housing': 0.9761904761904762,\n",
       " 'Ind': 0.94,\n",
       " 'Marital': 0.9315068493150684,\n",
       " 'Occ': 0.9487179487179487,\n",
       " 'Poverty': 0.975,\n",
       " 'Sch_Enrol': 0.9259259259259259,\n",
       " 'Trans': 0.95625}"
      ]
     },
     "execution_count": 85,
     "metadata": {},
     "output_type": "execute_result"
    }
   ],
   "source": [
    "Real_dict"
   ]
  },
  {
   "cell_type": "markdown",
   "metadata": {},
   "source": [
    "## Compare High Variables"
   ]
  },
  {
   "cell_type": "code",
   "execution_count": 86,
   "metadata": {
    "collapsed": true
   },
   "outputs": [],
   "source": [
    "Tol_H_var_file = pd.ExcelFile(tol_path+'\\\\'+tol_vars_files[2]) "
   ]
  },
  {
   "cell_type": "code",
   "execution_count": 87,
   "metadata": {
    "collapsed": true
   },
   "outputs": [],
   "source": [
    "# Retl industry\n",
    "\n",
    "Retl_dict = {}\n",
    "\n",
    "for sheetname in sheetnames:\n",
    "    \n",
    "    Retl_dict[sheetname] = cal_per_fnc(Tol_H_var_file,Retl_H_var_file, sheetname)"
   ]
  },
  {
   "cell_type": "code",
   "execution_count": 88,
   "metadata": {
    "collapsed": true
   },
   "outputs": [],
   "source": [
    "# Real Estat Industry\n",
    "\n",
    "Real_dict = {}\n",
    "\n",
    "for sheetname in sheetnames:\n",
    "    \n",
    "    Real_dict[sheetname] = cal_per_fnc(Tol_H_var_file,Real_H_var_file, sheetname) "
   ]
  },
  {
   "cell_type": "code",
   "execution_count": 90,
   "metadata": {},
   "outputs": [
    {
     "data": {
      "text/plain": [
       "{'Age_Sex': 0.896551724137931,\n",
       " 'Cmtg': 0.96,\n",
       " 'Edu': 0.7857142857142857,\n",
       " 'Empl': 1.0,\n",
       " 'Fin_Char': 0.8387096774193549,\n",
       " 'Geo_Mob': 0.9411764705882353,\n",
       " 'HH_Income': 0.8235294117647058,\n",
       " 'Housing': 0.6875,\n",
       " 'Ind': 0.8,\n",
       " 'Marital': 0.8181818181818182,\n",
       " 'Occ': 0.6,\n",
       " 'Poverty': 0.7333333333333333,\n",
       " 'Sch_Enrol': 0.75,\n",
       " 'Trans': 0.9090909090909091}"
      ]
     },
     "execution_count": 90,
     "metadata": {},
     "output_type": "execute_result"
    }
   ],
   "source": [
    "Real_dict"
   ]
  },
  {
   "cell_type": "code",
   "execution_count": null,
   "metadata": {
    "collapsed": true
   },
   "outputs": [],
   "source": []
  }
 ],
 "metadata": {
  "kernelspec": {
   "display_name": "Python 3",
   "language": "python",
   "name": "python3"
  },
  "language_info": {
   "codemirror_mode": {
    "name": "ipython",
    "version": 3
   },
   "file_extension": ".py",
   "mimetype": "text/x-python",
   "name": "python",
   "nbconvert_exporter": "python",
   "pygments_lexer": "ipython3",
   "version": "3.6.3"
  }
 },
 "nbformat": 4,
 "nbformat_minor": 2
}
