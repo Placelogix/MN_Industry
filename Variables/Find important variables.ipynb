{
 "cells": [
  {
   "cell_type": "code",
   "execution_count": 132,
   "metadata": {
    "collapsed": true
   },
   "outputs": [],
   "source": [
    "import numpy as np\n",
    "\n",
    "import pandas as pd\n",
    "\n",
    "import xlsxwriter, os\n",
    "\n",
    "from openpyxl import load_workbook"
   ]
  },
  {
   "cell_type": "code",
   "execution_count": 133,
   "metadata": {
    "collapsed": true
   },
   "outputs": [],
   "source": [
    "def add_sheet_fnc(path, df,sheetname):\n",
    "    \n",
    "    book = load_workbook(path)\n",
    "    \n",
    "    writer = pd.ExcelWriter(path, engine='openpyxl')\n",
    "    \n",
    "    writer.book = book\n",
    "    \n",
    "    df.to_excel(writer, sheet_name=sheetname)\n",
    "    \n",
    "    writer.save()\n",
    "    \n",
    "    writer.close()"
   ]
  },
  {
   "cell_type": "markdown",
   "metadata": {},
   "source": [
    "# First find important variables for Gross Sales by County"
   ]
  },
  {
   "cell_type": "code",
   "execution_count": 3,
   "metadata": {
    "collapsed": true
   },
   "outputs": [],
   "source": [
    "# load correlation coefficients by county\n",
    "\n",
    "file = pd.ExcelFile(r'C:\\Users\\PL_Dell3668_One\\Desktop\\MN_Industry\\Corr_County\\MN_Industry_Correlation.xlsx')"
   ]
  },
  {
   "cell_type": "code",
   "execution_count": 5,
   "metadata": {
    "collapsed": true
   },
   "outputs": [],
   "source": [
    "sheetnames = file.sheet_names"
   ]
  },
  {
   "cell_type": "markdown",
   "metadata": {},
   "source": [
    "## Find importatn variables for Indices"
   ]
  },
  {
   "cell_type": "code",
   "execution_count": 9,
   "metadata": {
    "collapsed": true
   },
   "outputs": [],
   "source": [
    "Indices_sheetname = sheetnames[0:8]\n",
    "# Indices_sheetname"
   ]
  },
  {
   "cell_type": "code",
   "execution_count": 33,
   "metadata": {
    "collapsed": true
   },
   "outputs": [],
   "source": [
    "def Indices_vars_fnc(file, path_E, path_M, path_H, sheetname):\n",
    "    \n",
    "    df = file.parse(sheetname)\n",
    "    \n",
    "#     df = df.set_index('Variable Name')  # REMOVE THIS LINE FOR CATEGORIES\n",
    "    \n",
    "    df_E = df[df['Correlation with Total Gross Sales'] >= 0.9]\n",
    "    \n",
    "    df_M = df[(df['Correlation with Total Gross Sales'] >= 0.7) & \n",
    "              (df['Correlation with Total Gross Sales'] < 0.9)]\n",
    "    \n",
    "    df_H = df[(df['Correlation with Total Gross Sales'] >= 0.5) &\n",
    "              (df['Correlation with Total Gross Sales'] < 0.7)]\n",
    "    \n",
    "    add_sheet_fnc(path_E, df_E,sheetname)\n",
    "    \n",
    "    add_sheet_fnc(path_M, df_M,sheetname)\n",
    "    \n",
    "    add_sheet_fnc(path_H, df_H,sheetname)\n",
    "    \n",
    "    "
   ]
  },
  {
   "cell_type": "code",
   "execution_count": 34,
   "metadata": {
    "collapsed": true
   },
   "outputs": [],
   "source": [
    "path_E = os.getcwd() + r'\\Vars_County\\Indices_Vars\\Indices_E_Vars.xlsx'\n",
    "\n",
    "path_M = os.getcwd() + r'\\Vars_County\\Indices_Vars\\Indices_M_Vars.xlsx'\n",
    "\n",
    "path_H = os.getcwd() + r'\\Vars_County\\Indices_Vars\\Indices_H_Vars.xlsx'"
   ]
  },
  {
   "cell_type": "code",
   "execution_count": 35,
   "metadata": {
    "collapsed": true
   },
   "outputs": [],
   "source": [
    "for sheetname in Indices_sheetname:\n",
    "    \n",
    "    Indices_vars_fnc(file, path_E, path_M, path_H, sheetname)"
   ]
  },
  {
   "cell_type": "markdown",
   "metadata": {},
   "source": [
    "## Find important variables for all categories"
   ]
  },
  {
   "cell_type": "code",
   "execution_count": 37,
   "metadata": {
    "collapsed": true
   },
   "outputs": [],
   "source": [
    "Categories_sheetname = sheetnames[8:]\n",
    "# Categories_sheetname"
   ]
  },
  {
   "cell_type": "code",
   "execution_count": 38,
   "metadata": {},
   "outputs": [
    {
     "data": {
      "text/html": [
       "<div>\n",
       "<style>\n",
       "    .dataframe thead tr:only-child th {\n",
       "        text-align: right;\n",
       "    }\n",
       "\n",
       "    .dataframe thead th {\n",
       "        text-align: left;\n",
       "    }\n",
       "\n",
       "    .dataframe tbody tr th {\n",
       "        vertical-align: top;\n",
       "    }\n",
       "</style>\n",
       "<table border=\"1\" class=\"dataframe\">\n",
       "  <thead>\n",
       "    <tr style=\"text-align: right;\">\n",
       "      <th></th>\n",
       "      <th>Variable Name</th>\n",
       "      <th>Correlation with Total Gross Sales</th>\n",
       "      <th>Correlation with Gross Sales/Person</th>\n",
       "    </tr>\n",
       "  </thead>\n",
       "  <tbody>\n",
       "    <tr>\n",
       "      <th>161101101</th>\n",
       "      <td>Total; Estimate; Total population</td>\n",
       "      <td>0.980539</td>\n",
       "      <td>0.144110</td>\n",
       "    </tr>\n",
       "    <tr>\n",
       "      <th>161101102</th>\n",
       "      <td>Male; Estimate; Total population</td>\n",
       "      <td>0.980260</td>\n",
       "      <td>0.143396</td>\n",
       "    </tr>\n",
       "    <tr>\n",
       "      <th>161101103</th>\n",
       "      <td>Female; Estimate; Total population</td>\n",
       "      <td>0.980754</td>\n",
       "      <td>0.144791</td>\n",
       "    </tr>\n",
       "    <tr>\n",
       "      <th>161102101</th>\n",
       "      <td>Total; Estimate; AGE - Under 5 years</td>\n",
       "      <td>0.863946</td>\n",
       "      <td>0.143240</td>\n",
       "    </tr>\n",
       "    <tr>\n",
       "      <th>161102101101</th>\n",
       "      <td>Male; Estimate; AGE - Under 5 years</td>\n",
       "      <td>0.878466</td>\n",
       "      <td>0.149372</td>\n",
       "    </tr>\n",
       "  </tbody>\n",
       "</table>\n",
       "</div>"
      ],
      "text/plain": [
       "                                     Variable Name  \\\n",
       "161101101        Total; Estimate; Total population   \n",
       "161101102         Male; Estimate; Total population   \n",
       "161101103       Female; Estimate; Total population   \n",
       "161102101     Total; Estimate; AGE - Under 5 years   \n",
       "161102101101   Male; Estimate; AGE - Under 5 years   \n",
       "\n",
       "              Correlation with Total Gross Sales  \\\n",
       "161101101                               0.980539   \n",
       "161101102                               0.980260   \n",
       "161101103                               0.980754   \n",
       "161102101                               0.863946   \n",
       "161102101101                            0.878466   \n",
       "\n",
       "              Correlation with Gross Sales/Person  \n",
       "161101101                                0.144110  \n",
       "161101102                                0.143396  \n",
       "161101103                                0.144791  \n",
       "161102101                                0.143240  \n",
       "161102101101                             0.149372  "
      ]
     },
     "execution_count": 38,
     "metadata": {},
     "output_type": "execute_result"
    }
   ],
   "source": [
    "df = file.parse('Age_Sex')\n",
    "\n",
    "df.head()"
   ]
  },
  {
   "cell_type": "code",
   "execution_count": 46,
   "metadata": {},
   "outputs": [
    {
     "data": {
      "text/html": [
       "<div>\n",
       "<style>\n",
       "    .dataframe thead tr:only-child th {\n",
       "        text-align: right;\n",
       "    }\n",
       "\n",
       "    .dataframe thead th {\n",
       "        text-align: left;\n",
       "    }\n",
       "\n",
       "    .dataframe tbody tr th {\n",
       "        vertical-align: top;\n",
       "    }\n",
       "</style>\n",
       "<table border=\"1\" class=\"dataframe\">\n",
       "  <thead>\n",
       "    <tr style=\"text-align: right;\">\n",
       "      <th></th>\n",
       "      <th>index</th>\n",
       "      <th>Variable Name</th>\n",
       "      <th>Correlation with Total Gross Sales</th>\n",
       "      <th>Correlation with Gross Sales/Person</th>\n",
       "    </tr>\n",
       "  </thead>\n",
       "  <tbody>\n",
       "    <tr>\n",
       "      <th>0</th>\n",
       "      <td>161101101</td>\n",
       "      <td>Total; Estimate; Total population</td>\n",
       "      <td>0.980539</td>\n",
       "      <td>0.144110</td>\n",
       "    </tr>\n",
       "    <tr>\n",
       "      <th>1</th>\n",
       "      <td>161101102</td>\n",
       "      <td>Male; Estimate; Total population</td>\n",
       "      <td>0.980260</td>\n",
       "      <td>0.143396</td>\n",
       "    </tr>\n",
       "    <tr>\n",
       "      <th>2</th>\n",
       "      <td>161101103</td>\n",
       "      <td>Female; Estimate; Total population</td>\n",
       "      <td>0.980754</td>\n",
       "      <td>0.144791</td>\n",
       "    </tr>\n",
       "    <tr>\n",
       "      <th>3</th>\n",
       "      <td>161102101</td>\n",
       "      <td>Total; Estimate; AGE - Under 5 years</td>\n",
       "      <td>0.863946</td>\n",
       "      <td>0.143240</td>\n",
       "    </tr>\n",
       "    <tr>\n",
       "      <th>4</th>\n",
       "      <td>161102101101</td>\n",
       "      <td>Male; Estimate; AGE - Under 5 years</td>\n",
       "      <td>0.878466</td>\n",
       "      <td>0.149372</td>\n",
       "    </tr>\n",
       "  </tbody>\n",
       "</table>\n",
       "</div>"
      ],
      "text/plain": [
       "          index                         Variable Name  \\\n",
       "0     161101101     Total; Estimate; Total population   \n",
       "1     161101102      Male; Estimate; Total population   \n",
       "2     161101103    Female; Estimate; Total population   \n",
       "3     161102101  Total; Estimate; AGE - Under 5 years   \n",
       "4  161102101101   Male; Estimate; AGE - Under 5 years   \n",
       "\n",
       "   Correlation with Total Gross Sales  Correlation with Gross Sales/Person  \n",
       "0                            0.980539                             0.144110  \n",
       "1                            0.980260                             0.143396  \n",
       "2                            0.980754                             0.144791  \n",
       "3                            0.863946                             0.143240  \n",
       "4                            0.878466                             0.149372  "
      ]
     },
     "execution_count": 46,
     "metadata": {},
     "output_type": "execute_result"
    }
   ],
   "source": [
    "df2 = df.reset_index()\n",
    "df2.head()"
   ]
  },
  {
   "cell_type": "code",
   "execution_count": 41,
   "metadata": {
    "collapsed": true
   },
   "outputs": [],
   "source": [
    "index2 = df['Variable Name']"
   ]
  },
  {
   "cell_type": "code",
   "execution_count": 43,
   "metadata": {
    "collapsed": true
   },
   "outputs": [],
   "source": [
    "tuples = list(zip(index1, index2))"
   ]
  },
  {
   "cell_type": "code",
   "execution_count": 47,
   "metadata": {},
   "outputs": [
    {
     "data": {
      "text/html": [
       "<div>\n",
       "<style>\n",
       "    .dataframe thead tr:only-child th {\n",
       "        text-align: right;\n",
       "    }\n",
       "\n",
       "    .dataframe thead th {\n",
       "        text-align: left;\n",
       "    }\n",
       "\n",
       "    .dataframe tbody tr th {\n",
       "        vertical-align: top;\n",
       "    }\n",
       "</style>\n",
       "<table border=\"1\" class=\"dataframe\">\n",
       "  <thead>\n",
       "    <tr style=\"text-align: right;\">\n",
       "      <th></th>\n",
       "      <th></th>\n",
       "      <th>Correlation with Total Gross Sales</th>\n",
       "      <th>Correlation with Gross Sales/Person</th>\n",
       "    </tr>\n",
       "    <tr>\n",
       "      <th>index</th>\n",
       "      <th>Variable Name</th>\n",
       "      <th></th>\n",
       "      <th></th>\n",
       "    </tr>\n",
       "  </thead>\n",
       "  <tbody>\n",
       "    <tr>\n",
       "      <th>161101101</th>\n",
       "      <th>Total; Estimate; Total population</th>\n",
       "      <td>0.980539</td>\n",
       "      <td>0.144110</td>\n",
       "    </tr>\n",
       "    <tr>\n",
       "      <th>161101102</th>\n",
       "      <th>Male; Estimate; Total population</th>\n",
       "      <td>0.980260</td>\n",
       "      <td>0.143396</td>\n",
       "    </tr>\n",
       "    <tr>\n",
       "      <th>161101103</th>\n",
       "      <th>Female; Estimate; Total population</th>\n",
       "      <td>0.980754</td>\n",
       "      <td>0.144791</td>\n",
       "    </tr>\n",
       "    <tr>\n",
       "      <th>161102101</th>\n",
       "      <th>Total; Estimate; AGE - Under 5 years</th>\n",
       "      <td>0.863946</td>\n",
       "      <td>0.143240</td>\n",
       "    </tr>\n",
       "    <tr>\n",
       "      <th>161102101101</th>\n",
       "      <th>Male; Estimate; AGE - Under 5 years</th>\n",
       "      <td>0.878466</td>\n",
       "      <td>0.149372</td>\n",
       "    </tr>\n",
       "  </tbody>\n",
       "</table>\n",
       "</div>"
      ],
      "text/plain": [
       "                                                   Correlation with Total Gross Sales  \\\n",
       "index        Variable Name                                                              \n",
       "161101101    Total; Estimate; Total population                               0.980539   \n",
       "161101102    Male; Estimate; Total population                                0.980260   \n",
       "161101103    Female; Estimate; Total population                              0.980754   \n",
       "161102101    Total; Estimate; AGE - Under 5 years                            0.863946   \n",
       "161102101101 Male; Estimate; AGE - Under 5 years                             0.878466   \n",
       "\n",
       "                                                   Correlation with Gross Sales/Person  \n",
       "index        Variable Name                                                              \n",
       "161101101    Total; Estimate; Total population                                0.144110  \n",
       "161101102    Male; Estimate; Total population                                 0.143396  \n",
       "161101103    Female; Estimate; Total population                               0.144791  \n",
       "161102101    Total; Estimate; AGE - Under 5 years                             0.143240  \n",
       "161102101101 Male; Estimate; AGE - Under 5 years                              0.149372  "
      ]
     },
     "execution_count": 47,
     "metadata": {},
     "output_type": "execute_result"
    }
   ],
   "source": [
    "df3 = df2.set_index(['index','Variable Name'])\n",
    "\n",
    "df3.head()"
   ]
  },
  {
   "cell_type": "code",
   "execution_count": 48,
   "metadata": {},
   "outputs": [
    {
     "data": {
      "text/html": [
       "<div>\n",
       "<style>\n",
       "    .dataframe thead tr:only-child th {\n",
       "        text-align: right;\n",
       "    }\n",
       "\n",
       "    .dataframe thead th {\n",
       "        text-align: left;\n",
       "    }\n",
       "\n",
       "    .dataframe tbody tr th {\n",
       "        vertical-align: top;\n",
       "    }\n",
       "</style>\n",
       "<table border=\"1\" class=\"dataframe\">\n",
       "  <thead>\n",
       "    <tr style=\"text-align: right;\">\n",
       "      <th></th>\n",
       "      <th></th>\n",
       "      <th>Correlation with Total Gross Sales</th>\n",
       "      <th>Correlation with Gross Sales/Person</th>\n",
       "    </tr>\n",
       "    <tr>\n",
       "      <th>Variable Code</th>\n",
       "      <th>Variable Name</th>\n",
       "      <th></th>\n",
       "      <th></th>\n",
       "    </tr>\n",
       "  </thead>\n",
       "  <tbody>\n",
       "    <tr>\n",
       "      <th>161101101</th>\n",
       "      <th>Total; Estimate; Total population</th>\n",
       "      <td>0.980539</td>\n",
       "      <td>0.144110</td>\n",
       "    </tr>\n",
       "    <tr>\n",
       "      <th>161101102</th>\n",
       "      <th>Male; Estimate; Total population</th>\n",
       "      <td>0.980260</td>\n",
       "      <td>0.143396</td>\n",
       "    </tr>\n",
       "    <tr>\n",
       "      <th>161101103</th>\n",
       "      <th>Female; Estimate; Total population</th>\n",
       "      <td>0.980754</td>\n",
       "      <td>0.144791</td>\n",
       "    </tr>\n",
       "    <tr>\n",
       "      <th>161102101</th>\n",
       "      <th>Total; Estimate; AGE - Under 5 years</th>\n",
       "      <td>0.863946</td>\n",
       "      <td>0.143240</td>\n",
       "    </tr>\n",
       "    <tr>\n",
       "      <th>161102101101</th>\n",
       "      <th>Male; Estimate; AGE - Under 5 years</th>\n",
       "      <td>0.878466</td>\n",
       "      <td>0.149372</td>\n",
       "    </tr>\n",
       "  </tbody>\n",
       "</table>\n",
       "</div>"
      ],
      "text/plain": [
       "                                                    Correlation with Total Gross Sales  \\\n",
       "Variable Code Variable Name                                                              \n",
       "161101101     Total; Estimate; Total population                               0.980539   \n",
       "161101102     Male; Estimate; Total population                                0.980260   \n",
       "161101103     Female; Estimate; Total population                              0.980754   \n",
       "161102101     Total; Estimate; AGE - Under 5 years                            0.863946   \n",
       "161102101101  Male; Estimate; AGE - Under 5 years                             0.878466   \n",
       "\n",
       "                                                    Correlation with Gross Sales/Person  \n",
       "Variable Code Variable Name                                                              \n",
       "161101101     Total; Estimate; Total population                                0.144110  \n",
       "161101102     Male; Estimate; Total population                                 0.143396  \n",
       "161101103     Female; Estimate; Total population                               0.144791  \n",
       "161102101     Total; Estimate; AGE - Under 5 years                             0.143240  \n",
       "161102101101  Male; Estimate; AGE - Under 5 years                              0.149372  "
      ]
     },
     "execution_count": 48,
     "metadata": {},
     "output_type": "execute_result"
    }
   ],
   "source": [
    "df3.index.names = ['Variable Code','Variable Name']\n",
    "df3.head()"
   ]
  },
  {
   "cell_type": "code",
   "execution_count": 49,
   "metadata": {
    "collapsed": true
   },
   "outputs": [],
   "source": [
    "path_E = os.getcwd() + r'\\Vars_County\\Categories_Vars\\Categories_E_Vars.xlsx'\n",
    "\n",
    "path_M = os.getcwd() + r'\\Vars_County\\Categories_Vars\\Categories_M_Vars.xlsx'\n",
    "\n",
    "path_H = os.getcwd() + r'\\Vars_County\\Categories_Vars\\Categories_H_Vars.xlsx'"
   ]
  },
  {
   "cell_type": "code",
   "execution_count": 50,
   "metadata": {
    "collapsed": true
   },
   "outputs": [],
   "source": [
    "for sheetname in Categories_sheetname:\n",
    "    \n",
    "    Indices_vars_fnc(file, path_E, path_M, path_H, sheetname)"
   ]
  },
  {
   "cell_type": "markdown",
   "metadata": {},
   "source": [
    "## Count variables"
   ]
  },
  {
   "cell_type": "code",
   "execution_count": 162,
   "metadata": {
    "collapsed": true
   },
   "outputs": [],
   "source": [
    "# load Indices Variable files\n",
    "\n",
    "indices_files = [x for x in os.listdir(os.getcwd() + r'\\Vars_County\\Indices_Vars') if x[-5:] == '.xlsx']"
   ]
  },
  {
   "cell_type": "code",
   "execution_count": 163,
   "metadata": {},
   "outputs": [
    {
     "data": {
      "text/plain": [
       "['Indices_E_Vars.xlsx', 'Indices_H_Vars.xlsx', 'Indices_M_Vars.xlsx']"
      ]
     },
     "execution_count": 163,
     "metadata": {},
     "output_type": "execute_result"
    }
   ],
   "source": [
    "indices_files"
   ]
  },
  {
   "cell_type": "code",
   "execution_count": 137,
   "metadata": {
    "collapsed": true
   },
   "outputs": [],
   "source": [
    "# load Category Variable files\n",
    "\n",
    "categories_files = [x for x in os.listdir(os.getcwd() + r'\\Vars_County\\Categories_Vars') if x[-5:] == '.xlsx']"
   ]
  },
  {
   "cell_type": "code",
   "execution_count": 138,
   "metadata": {},
   "outputs": [
    {
     "data": {
      "text/plain": [
       "['Categories_E_vars.xlsx', 'Categories_H_Vars.xlsx', 'Categories_M_Vars.xlsx']"
      ]
     },
     "execution_count": 138,
     "metadata": {},
     "output_type": "execute_result"
    }
   ],
   "source": [
    "categories_files"
   ]
  },
  {
   "cell_type": "code",
   "execution_count": 177,
   "metadata": {
    "collapsed": true
   },
   "outputs": [],
   "source": [
    "def count_var_fnc(file):\n",
    "        \n",
    "    sheetnames = file.sheet_names\n",
    "    \n",
    "    cnt = []\n",
    "    \n",
    "    for sheetname in sheetnames:\n",
    "        \n",
    "        df = file.parse(sheetname)\n",
    "        \n",
    "        df['Variable Name'] = df['Variable Name'].astype('str')\n",
    "        \n",
    "        df_15 = df[df['Variable Name'].str.contains('2015')]\n",
    "        \n",
    "        cnt.append(df_15['Variable Name'].count())\n",
    "        \n",
    "    var_cnt_pair = list(zip(sheetnames, cnt))\n",
    "        \n",
    "    return cnt, var_cnt_pair"
   ]
  },
  {
   "cell_type": "markdown",
   "metadata": {},
   "source": [
    "### Count variables in Indices"
   ]
  },
  {
   "cell_type": "code",
   "execution_count": 180,
   "metadata": {},
   "outputs": [],
   "source": [
    "E_file = pd.ExcelFile(os.getcwd()+'\\\\Vars_County\\\\Indices_Vars\\\\'+indices_files[0])\n",
    "\n",
    "E_cnt, E_pair = count_var_fnc(E_file)\n",
    "\n",
    "M_file = pd.ExcelFile(os.getcwd()+'\\\\Vars_County\\\\Indices_Vars\\\\'+indices_files[2])\n",
    "\n",
    "M_cnt, M_pair = count_var_fnc(M_file)\n",
    "\n",
    "H_file = pd.ExcelFile(os.getcwd()+'\\\\Vars_County\\\\Indices_Vars\\\\'+indices_files[1])\n",
    "\n",
    "H_cnt, H_pair = count_var_fnc(H_file)"
   ]
  },
  {
   "cell_type": "code",
   "execution_count": null,
   "metadata": {},
   "outputs": [],
   "source": []
  },
  {
   "cell_type": "markdown",
   "metadata": {},
   "source": [
    "### Count variables in Categories"
   ]
  },
  {
   "cell_type": "code",
   "execution_count": 188,
   "metadata": {
    "collapsed": true
   },
   "outputs": [],
   "source": [
    "def count_cat_var_fnc(file):\n",
    "        \n",
    "    sheetnames = file.sheet_names\n",
    "    \n",
    "    cnt = []\n",
    "    \n",
    "    for sheetname in sheetnames:\n",
    "        \n",
    "        df = file.parse(sheetname)\n",
    "        \n",
    "        cnt.append(df['Variable Name'].count())\n",
    "        \n",
    "    var_cnt_pair = list(zip(sheetnames, cnt))\n",
    "        \n",
    "    return cnt, var_cnt_pair"
   ]
  },
  {
   "cell_type": "code",
   "execution_count": 191,
   "metadata": {},
   "outputs": [],
   "source": [
    "E_file = pd.ExcelFile(os.getcwd()+'\\\\Vars_County\\\\Categories_Vars\\\\'+categories_files[0])\n",
    "\n",
    "E_cnt, E_pair = count_cat_var_fnc(E_file)\n",
    "\n",
    "M_file = pd.ExcelFile(os.getcwd()+'\\\\Vars_County\\\\Categories_Vars\\\\'+categories_files[2])\n",
    "\n",
    "M_cnt, M_pair = count_cat_var_fnc(M_file)\n",
    "\n",
    "H_file = pd.ExcelFile(os.getcwd()+'\\\\Vars_County\\\\Categories_Vars\\\\'+categories_files[1])\n",
    "\n",
    "H_cnt, H_pair = count_cat_var_fnc(H_file)"
   ]
  },
  {
   "cell_type": "markdown",
   "metadata": {},
   "source": [
    "# First find important variables for Gross Sales by Industry by County"
   ]
  },
  {
   "cell_type": "code",
   "execution_count": null,
   "metadata": {
    "collapsed": true
   },
   "outputs": [],
   "source": []
  }
 ],
 "metadata": {
  "kernelspec": {
   "display_name": "Python 3",
   "language": "python",
   "name": "python3"
  },
  "language_info": {
   "codemirror_mode": {
    "name": "ipython",
    "version": 3
   },
   "file_extension": ".py",
   "mimetype": "text/x-python",
   "name": "python",
   "nbconvert_exporter": "python",
   "pygments_lexer": "ipython3",
   "version": "3.6.3"
  }
 },
 "nbformat": 4,
 "nbformat_minor": 2
}
