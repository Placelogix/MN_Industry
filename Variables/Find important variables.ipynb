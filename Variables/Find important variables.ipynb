{
 "cells": [
  {
   "cell_type": "code",
   "execution_count": 1,
   "metadata": {
    "collapsed": true
   },
   "outputs": [],
   "source": [
    "import numpy as np\n",
    "\n",
    "import pandas as pd\n",
    "\n",
    "import xlsxwriter, os\n",
    "\n",
    "from openpyxl import load_workbook"
   ]
  },
  {
   "cell_type": "code",
   "execution_count": null,
   "metadata": {
    "collapsed": true
   },
   "outputs": [],
   "source": [
    "def add_sheet_fnc(path, df,sheetname):\n",
    "    \n",
    "    book = load_workbook(path)\n",
    "    \n",
    "    writer = pd.ExcelWriter(path, engine='openpyxl')\n",
    "    \n",
    "    writer.book = book\n",
    "    \n",
    "    df.to_excel(writer, sheet_name=sheetname)\n",
    "    \n",
    "    writer.save()\n",
    "    \n",
    "    writer.close()"
   ]
  },
  {
   "cell_type": "markdown",
   "metadata": {},
   "source": [
    "# First find important variables for Gross Sales by County"
   ]
  },
  {
   "cell_type": "code",
   "execution_count": null,
   "metadata": {
    "collapsed": true
   },
   "outputs": [],
   "source": [
    "# load correlation coefficients by county\n",
    "\n",
    "file = pd.ExcelFile(r'C:\\Users\\PL_Dell3668_One\\Desktop\\MN_Industry\\Corr_County\\MN_Industry_Correlation.xlsx')"
   ]
  },
  {
   "cell_type": "code",
   "execution_count": null,
   "metadata": {
    "collapsed": true
   },
   "outputs": [],
   "source": [
    "sheetnames = file.sheet_names"
   ]
  },
  {
   "cell_type": "markdown",
   "metadata": {},
   "source": [
    "## Find importatn variables for Indices"
   ]
  },
  {
   "cell_type": "code",
   "execution_count": null,
   "metadata": {
    "collapsed": true
   },
   "outputs": [],
   "source": [
    "Indices_sheetname = sheetnames[0:8]\n",
    "# Indices_sheetname"
   ]
  },
  {
   "cell_type": "code",
   "execution_count": null,
   "metadata": {
    "collapsed": true
   },
   "outputs": [],
   "source": [
    "def Indices_vars_fnc(file, path_E, path_M, path_H, sheetname):\n",
    "    \n",
    "    df = file.parse(sheetname)\n",
    "    \n",
    "#     df = df.set_index('Variable Name')  # REMOVE THIS LINE FOR CATEGORIES\n",
    "    \n",
    "    df_E = df[df['Correlation with Total Gross Sales'] >= 0.9]\n",
    "    \n",
    "    df_M = df[(df['Correlation with Total Gross Sales'] >= 0.7) & \n",
    "              (df['Correlation with Total Gross Sales'] < 0.9)]\n",
    "    \n",
    "    df_H = df[(df['Correlation with Total Gross Sales'] >= 0.5) &\n",
    "              (df['Correlation with Total Gross Sales'] < 0.7)]\n",
    "    \n",
    "    add_sheet_fnc(path_E, df_E,sheetname)\n",
    "    \n",
    "    add_sheet_fnc(path_M, df_M,sheetname)\n",
    "    \n",
    "    add_sheet_fnc(path_H, df_H,sheetname)\n",
    "    \n",
    "    "
   ]
  },
  {
   "cell_type": "code",
   "execution_count": null,
   "metadata": {
    "collapsed": true
   },
   "outputs": [],
   "source": [
    "path_E = os.getcwd() + r'\\Vars_County\\Indices_Vars\\Indices_E_Vars.xlsx'\n",
    "\n",
    "path_M = os.getcwd() + r'\\Vars_County\\Indices_Vars\\Indices_M_Vars.xlsx'\n",
    "\n",
    "path_H = os.getcwd() + r'\\Vars_County\\Indices_Vars\\Indices_H_Vars.xlsx'"
   ]
  },
  {
   "cell_type": "code",
   "execution_count": null,
   "metadata": {
    "collapsed": true
   },
   "outputs": [],
   "source": [
    "for sheetname in Indices_sheetname:\n",
    "    \n",
    "    Indices_vars_fnc(file, path_E, path_M, path_H, sheetname)"
   ]
  },
  {
   "cell_type": "markdown",
   "metadata": {},
   "source": [
    "## Find important variables for all categories"
   ]
  },
  {
   "cell_type": "code",
   "execution_count": null,
   "metadata": {
    "collapsed": true
   },
   "outputs": [],
   "source": [
    "Categories_sheetname = sheetnames[8:]\n",
    "# Categories_sheetname"
   ]
  },
  {
   "cell_type": "code",
   "execution_count": null,
   "metadata": {
    "collapsed": true
   },
   "outputs": [],
   "source": [
    "path_E = os.getcwd() + r'\\Vars_County\\Categories_Vars\\Categories_E_Vars.xlsx'\n",
    "\n",
    "path_M = os.getcwd() + r'\\Vars_County\\Categories_Vars\\Categories_M_Vars.xlsx'\n",
    "\n",
    "path_H = os.getcwd() + r'\\Vars_County\\Categories_Vars\\Categories_H_Vars.xlsx'"
   ]
  },
  {
   "cell_type": "code",
   "execution_count": null,
   "metadata": {
    "collapsed": true
   },
   "outputs": [],
   "source": [
    "for sheetname in Categories_sheetname:\n",
    "    \n",
    "    Indices_vars_fnc(file, path_E, path_M, path_H, sheetname)"
   ]
  },
  {
   "cell_type": "markdown",
   "metadata": {},
   "source": [
    "## Count variables"
   ]
  },
  {
   "cell_type": "code",
   "execution_count": null,
   "metadata": {
    "collapsed": true
   },
   "outputs": [],
   "source": [
    "# load Indices Variable files\n",
    "\n",
    "indices_files = [x for x in os.listdir(os.getcwd() + r'\\Vars_County\\Indices_Vars') if x[-5:] == '.xlsx']"
   ]
  },
  {
   "cell_type": "code",
   "execution_count": null,
   "metadata": {},
   "outputs": [],
   "source": [
    "indices_files"
   ]
  },
  {
   "cell_type": "code",
   "execution_count": null,
   "metadata": {
    "collapsed": true
   },
   "outputs": [],
   "source": [
    "# load Category Variable files\n",
    "\n",
    "categories_files = [x for x in os.listdir(os.getcwd() + r'\\Vars_County\\Categories_Vars') if x[-5:] == '.xlsx']"
   ]
  },
  {
   "cell_type": "code",
   "execution_count": null,
   "metadata": {},
   "outputs": [],
   "source": [
    "categories_files"
   ]
  },
  {
   "cell_type": "code",
   "execution_count": null,
   "metadata": {
    "collapsed": true
   },
   "outputs": [],
   "source": [
    "def count_var_fnc(file):\n",
    "        \n",
    "    sheetnames = file.sheet_names\n",
    "    \n",
    "    cnt = []\n",
    "    \n",
    "    for sheetname in sheetnames:\n",
    "        \n",
    "        df = file.parse(sheetname)\n",
    "        \n",
    "        df['Variable Name'] = df['Variable Name'].astype('str')\n",
    "        \n",
    "        df_15 = df[df['Variable Name'].str.contains('2015')]\n",
    "        \n",
    "        cnt.append(df_15['Variable Name'].count())\n",
    "        \n",
    "    var_cnt_pair = list(zip(sheetnames, cnt))\n",
    "        \n",
    "    return cnt, var_cnt_pair"
   ]
  },
  {
   "cell_type": "markdown",
   "metadata": {},
   "source": [
    "### Count variables in Indices"
   ]
  },
  {
   "cell_type": "code",
   "execution_count": null,
   "metadata": {
    "collapsed": true
   },
   "outputs": [],
   "source": [
    "E_file = pd.ExcelFile(os.getcwd()+'\\\\Vars_County\\\\Indices_Vars\\\\'+indices_files[0])\n",
    "\n",
    "E_cnt, E_pair = count_var_fnc(E_file)\n",
    "\n",
    "M_file = pd.ExcelFile(os.getcwd()+'\\\\Vars_County\\\\Indices_Vars\\\\'+indices_files[2])\n",
    "\n",
    "M_cnt, M_pair = count_var_fnc(M_file)\n",
    "\n",
    "H_file = pd.ExcelFile(os.getcwd()+'\\\\Vars_County\\\\Indices_Vars\\\\'+indices_files[1])\n",
    "\n",
    "H_cnt, H_pair = count_var_fnc(H_file)"
   ]
  },
  {
   "cell_type": "code",
   "execution_count": null,
   "metadata": {
    "collapsed": true
   },
   "outputs": [],
   "source": []
  },
  {
   "cell_type": "markdown",
   "metadata": {},
   "source": [
    "### Count variables in Categories"
   ]
  },
  {
   "cell_type": "code",
   "execution_count": null,
   "metadata": {
    "collapsed": true
   },
   "outputs": [],
   "source": [
    "def count_cat_var_fnc(file):\n",
    "        \n",
    "    sheetnames = file.sheet_names\n",
    "    \n",
    "    cnt = []\n",
    "    \n",
    "    for sheetname in sheetnames:\n",
    "        \n",
    "        df = file.parse(sheetname)\n",
    "        \n",
    "        cnt.append(df['Variable Name'].count())\n",
    "        \n",
    "    var_cnt_pair = list(zip(sheetnames, cnt))\n",
    "        \n",
    "    return cnt, var_cnt_pair"
   ]
  },
  {
   "cell_type": "code",
   "execution_count": null,
   "metadata": {
    "collapsed": true
   },
   "outputs": [],
   "source": [
    "E_file = pd.ExcelFile(os.getcwd()+'\\\\Vars_County\\\\Categories_Vars\\\\'+categories_files[0])\n",
    "\n",
    "E_cnt, E_pair = count_cat_var_fnc(E_file)\n",
    "\n",
    "M_file = pd.ExcelFile(os.getcwd()+'\\\\Vars_County\\\\Categories_Vars\\\\'+categories_files[2])\n",
    "\n",
    "M_cnt, M_pair = count_cat_var_fnc(M_file)\n",
    "\n",
    "H_file = pd.ExcelFile(os.getcwd()+'\\\\Vars_County\\\\Categories_Vars\\\\'+categories_files[1])\n",
    "\n",
    "H_cnt, H_pair = count_cat_var_fnc(H_file)"
   ]
  },
  {
   "cell_type": "markdown",
   "metadata": {},
   "source": [
    "# Second find important variables for Gross Sales by Industry by County"
   ]
  },
  {
   "cell_type": "code",
   "execution_count": null,
   "metadata": {
    "collapsed": true
   },
   "outputs": [],
   "source": [
    "# First Chosse '311 MFG -FOOD', '425 WHOLESALE -ELECTRONICS',\n",
    "# '448 RETL -CLOTHING, ACCESSORY', 'REAL ESTATE' industries to analysis."
   ]
  },
  {
   "cell_type": "code",
   "execution_count": 3,
   "metadata": {
    "collapsed": true
   },
   "outputs": [],
   "source": [
    "# load files fo industries\n",
    "\n",
    "indices_files = [x for x in os.listdir(r'C:\\Users\\PL_Dell3668_One\\Desktop\\MN_Industry\\Corr_Industry\\Industry_Correlation_Data\\Indices_Industry') if x[-5:] == '.xlsx']\n",
    "\n",
    "Category_files = [x for x in os.listdir(r'C:\\Users\\PL_Dell3668_One\\Desktop\\MN_Industry\\Corr_Industry\\Industry_Correlation_Data\\Categories_Industry') if x[-5:] == '.xlsx']"
   ]
  },
  {
   "cell_type": "code",
   "execution_count": 4,
   "metadata": {
    "collapsed": true
   },
   "outputs": [],
   "source": [
    "Industry_Names = [x[:-5] for x in os.listdir(r'C:\\Users\\PL_Dell3668_One\\Desktop\\MN_Industry\\Corr_Industry\\Industry_Correlation_Data\\Indices_Industry')]"
   ]
  },
  {
   "cell_type": "code",
   "execution_count": 5,
   "metadata": {},
   "outputs": [
    {
     "data": {
      "text/plain": [
       "'111 AG -CROP PRODUCTION'"
      ]
     },
     "execution_count": 5,
     "metadata": {},
     "output_type": "execute_result"
    }
   ],
   "source": [
    "Industry_Names[0]"
   ]
  },
  {
   "cell_type": "markdown",
   "metadata": {},
   "source": [
    "## Find important variables for one industry"
   ]
  },
  {
   "cell_type": "code",
   "execution_count": null,
   "metadata": {},
   "outputs": [],
   "source": [
    "# load files for one industry\n",
    "\n",
    "indices_food = pd.ExcelFile(r'C:\\Users\\PL_Dell3668_One\\Desktop\\MN_Industry\\Corr_Industry\\Industry_Correlation_Data\\Indices_Industry\\311 MFG -FOOD.xlsx')\n",
    "\n",
    "Category_food = pd.ExcelFile(r'C:\\Users\\PL_Dell3668_One\\Desktop\\MN_Industry\\Corr_Industry\\Industry_Correlation_Data\\Categories_Industry\\311 MFG -FOOD.xlsx')"
   ]
  },
  {
   "cell_type": "code",
   "execution_count": null,
   "metadata": {
    "collapsed": true
   },
   "outputs": [],
   "source": [
    "indices_sheetnames = indices_food.sheet_names\n",
    "\n",
    "category_sheetnames = Category_food.sheet_names"
   ]
  },
  {
   "cell_type": "markdown",
   "metadata": {},
   "source": [
    "### Find importatn variables for indices"
   ]
  },
  {
   "cell_type": "code",
   "execution_count": 15,
   "metadata": {},
   "outputs": [
    {
     "ename": "FileNotFoundError",
     "evalue": "[Errno 2] No such file or directory: 'C:\\\\Users\\\\PL_Dell3668_One\\\\Desktop\\\\MN_Industry\\\\Corr_Industry\\\\Industry_Correlation_Data\\\\Indices_Industry\\\\~$111 AG -CROP PRODUCTION.xlsx'",
     "output_type": "error",
     "traceback": [
      "\u001b[1;31m---------------------------------------------------------------------------\u001b[0m",
      "\u001b[1;31mFileNotFoundError\u001b[0m                         Traceback (most recent call last)",
      "\u001b[1;32m<ipython-input-15-36445b4c6c87>\u001b[0m in \u001b[0;36m<module>\u001b[1;34m()\u001b[0m\n\u001b[0;32m      1\u001b[0m \u001b[1;32mfor\u001b[0m \u001b[0mindustry_name\u001b[0m \u001b[1;32min\u001b[0m \u001b[0mIndustry_Names\u001b[0m\u001b[1;33m:\u001b[0m\u001b[1;33m\u001b[0m\u001b[0m\n\u001b[0;32m      2\u001b[0m \u001b[1;33m\u001b[0m\u001b[0m\n\u001b[1;32m----> 3\u001b[1;33m     \u001b[0mindustry_file\u001b[0m \u001b[1;33m=\u001b[0m \u001b[0mpd\u001b[0m\u001b[1;33m.\u001b[0m\u001b[0mExcelFile\u001b[0m\u001b[1;33m(\u001b[0m\u001b[1;34m'C:\\\\Users\\\\PL_Dell3668_One\\\\Desktop\\\\MN_Industry\\Corr_Industry\\\\Industry_Correlation_Data\\\\Indices_Industry\\\\'\u001b[0m\u001b[1;33m+\u001b[0m\u001b[0mindustry_name\u001b[0m\u001b[1;33m+\u001b[0m\u001b[1;34m'.xlsx'\u001b[0m\u001b[1;33m)\u001b[0m\u001b[1;33m\u001b[0m\u001b[0m\n\u001b[0m\u001b[0;32m      4\u001b[0m \u001b[1;33m\u001b[0m\u001b[0m\n\u001b[0;32m      5\u001b[0m     \u001b[0mindices_sheetnames\u001b[0m \u001b[1;33m=\u001b[0m \u001b[0mindustry_file\u001b[0m\u001b[1;33m.\u001b[0m\u001b[0msheet_names\u001b[0m\u001b[1;33m\u001b[0m\u001b[0m\n",
      "\u001b[1;32mC:\\Anaconda\\lib\\site-packages\\pandas\\io\\excel.py\u001b[0m in \u001b[0;36m__init__\u001b[1;34m(self, io, **kwds)\u001b[0m\n\u001b[0;32m    258\u001b[0m             \u001b[0mself\u001b[0m\u001b[1;33m.\u001b[0m\u001b[0mbook\u001b[0m \u001b[1;33m=\u001b[0m \u001b[0mxlrd\u001b[0m\u001b[1;33m.\u001b[0m\u001b[0mopen_workbook\u001b[0m\u001b[1;33m(\u001b[0m\u001b[0mfile_contents\u001b[0m\u001b[1;33m=\u001b[0m\u001b[0mdata\u001b[0m\u001b[1;33m)\u001b[0m\u001b[1;33m\u001b[0m\u001b[0m\n\u001b[0;32m    259\u001b[0m         \u001b[1;32melif\u001b[0m \u001b[0misinstance\u001b[0m\u001b[1;33m(\u001b[0m\u001b[0mio\u001b[0m\u001b[1;33m,\u001b[0m \u001b[0mcompat\u001b[0m\u001b[1;33m.\u001b[0m\u001b[0mstring_types\u001b[0m\u001b[1;33m)\u001b[0m\u001b[1;33m:\u001b[0m\u001b[1;33m\u001b[0m\u001b[0m\n\u001b[1;32m--> 260\u001b[1;33m             \u001b[0mself\u001b[0m\u001b[1;33m.\u001b[0m\u001b[0mbook\u001b[0m \u001b[1;33m=\u001b[0m \u001b[0mxlrd\u001b[0m\u001b[1;33m.\u001b[0m\u001b[0mopen_workbook\u001b[0m\u001b[1;33m(\u001b[0m\u001b[0mio\u001b[0m\u001b[1;33m)\u001b[0m\u001b[1;33m\u001b[0m\u001b[0m\n\u001b[0m\u001b[0;32m    261\u001b[0m         \u001b[1;32melse\u001b[0m\u001b[1;33m:\u001b[0m\u001b[1;33m\u001b[0m\u001b[0m\n\u001b[0;32m    262\u001b[0m             raise ValueError('Must explicitly set engine if not passing in'\n",
      "\u001b[1;32mC:\\Anaconda\\lib\\site-packages\\xlrd\\__init__.py\u001b[0m in \u001b[0;36mopen_workbook\u001b[1;34m(filename, logfile, verbosity, use_mmap, file_contents, encoding_override, formatting_info, on_demand, ragged_rows)\u001b[0m\n\u001b[0;32m    114\u001b[0m         \u001b[0mpeek\u001b[0m \u001b[1;33m=\u001b[0m \u001b[0mfile_contents\u001b[0m\u001b[1;33m[\u001b[0m\u001b[1;33m:\u001b[0m\u001b[0mpeeksz\u001b[0m\u001b[1;33m]\u001b[0m\u001b[1;33m\u001b[0m\u001b[0m\n\u001b[0;32m    115\u001b[0m     \u001b[1;32melse\u001b[0m\u001b[1;33m:\u001b[0m\u001b[1;33m\u001b[0m\u001b[0m\n\u001b[1;32m--> 116\u001b[1;33m         \u001b[1;32mwith\u001b[0m \u001b[0mopen\u001b[0m\u001b[1;33m(\u001b[0m\u001b[0mfilename\u001b[0m\u001b[1;33m,\u001b[0m \u001b[1;34m\"rb\"\u001b[0m\u001b[1;33m)\u001b[0m \u001b[1;32mas\u001b[0m \u001b[0mf\u001b[0m\u001b[1;33m:\u001b[0m\u001b[1;33m\u001b[0m\u001b[0m\n\u001b[0m\u001b[0;32m    117\u001b[0m             \u001b[0mpeek\u001b[0m \u001b[1;33m=\u001b[0m \u001b[0mf\u001b[0m\u001b[1;33m.\u001b[0m\u001b[0mread\u001b[0m\u001b[1;33m(\u001b[0m\u001b[0mpeeksz\u001b[0m\u001b[1;33m)\u001b[0m\u001b[1;33m\u001b[0m\u001b[0m\n\u001b[0;32m    118\u001b[0m     \u001b[1;32mif\u001b[0m \u001b[0mpeek\u001b[0m \u001b[1;33m==\u001b[0m \u001b[1;34mb\"PK\\x03\\x04\"\u001b[0m\u001b[1;33m:\u001b[0m \u001b[1;31m# a ZIP file\u001b[0m\u001b[1;33m\u001b[0m\u001b[0m\n",
      "\u001b[1;31mFileNotFoundError\u001b[0m: [Errno 2] No such file or directory: 'C:\\\\Users\\\\PL_Dell3668_One\\\\Desktop\\\\MN_Industry\\\\Corr_Industry\\\\Industry_Correlation_Data\\\\Indices_Industry\\\\~$111 AG -CROP PRODUCTION.xlsx'"
     ]
    }
   ],
   "source": [
    "for industry_name in Industry_Names:\n",
    "    \n",
    "    industry_file = pd.ExcelFile('C:\\\\Users\\\\PL_Dell3668_One\\\\Desktop\\\\MN_Industry\\\\\n",
    "Corr_Industry\\\\Industry_Correlation_Data\\\\Indices_Industry\\\\'+industry_name+'.xlsx')\n",
    "    \n",
    "    indices_sheetnames = industry_file.sheet_names\n",
    "    \n",
    "    path = os.getcwd() + r'\\Vars_Industry\\Indices_Vars'\n",
    "    \n",
    "    writer_E = pd.ExcelWriter(path+'\\\\'+'Extremely_High_Vars\\\\'+industry_name+'.xlsx')\n",
    "    \n",
    "#     path_M = os.getcwd() + r'\\Vars_Industry\\Indices_Vars'\n",
    "    \n",
    "    writer_M = pd.ExcelWriter(path+'\\\\'+'Mid_High_Vars\\\\'+industry_name+'.xlsx')\n",
    "    \n",
    "#     path_E = os.getcwd() + r'\\Vars_Industry\\Indices_Vars'\n",
    "    \n",
    "    writer_H = pd.ExcelWriter(path+'\\\\'+'High_Vars\\\\'+industry_name+'.xlsx')\n",
    "    \n",
    "    for sheetname in indices_sheetnames:\n",
    "        \n",
    "        df = industry_file.parse(sheetname)\n",
    "    \n",
    "        df_E = df[df.iloc[:,0] >= 0.9]\n",
    "\n",
    "        df_M = df[(df.iloc[:,0] >= 0.7) & \n",
    "                  (df.iloc[:,0] < 0.9)]\n",
    "\n",
    "        df_H = df[(df.iloc[:,0] >= 0.5) &\n",
    "                  (df.iloc[:,0] < 0.7)]\n",
    "        \n",
    "        df_E = df_E.to_excel(writer_E, sheet_name=sheetname)\n",
    "        \n",
    "        df_M = df_M.to_excel(writer_M, sheet_name=sheetname)\n",
    "        \n",
    "        df_H = df_H.to_excel(writer_H, sheet_name=sheetname)    "
   ]
  },
  {
   "cell_type": "markdown",
   "metadata": {},
   "source": [
    "### Find important variables for Categories"
   ]
  },
  {
   "cell_type": "code",
   "execution_count": 23,
   "metadata": {
    "collapsed": true
   },
   "outputs": [],
   "source": [
    "Industry_Names.remove('236 CONSTRUCT -BUILDINGS')"
   ]
  },
  {
   "cell_type": "code",
   "execution_count": 24,
   "metadata": {},
   "outputs": [
    {
     "ename": "FileNotFoundError",
     "evalue": "[Errno 2] No such file or directory: 'C:\\\\Users\\\\PL_Dell3668_One\\\\Desktop\\\\MN_Industry\\\\Corr_Industry\\\\Industry_Correlation_Data\\\\Categories_Industry\\\\924 ADMIN -ENVRNMNTAL QUALITY.xlsx'",
     "output_type": "error",
     "traceback": [
      "\u001b[1;31m---------------------------------------------------------------------------\u001b[0m",
      "\u001b[1;31mFileNotFoundError\u001b[0m                         Traceback (most recent call last)",
      "\u001b[1;32m<ipython-input-24-ca97ad3365c4>\u001b[0m in \u001b[0;36m<module>\u001b[1;34m()\u001b[0m\n\u001b[0;32m      1\u001b[0m \u001b[1;32mfor\u001b[0m \u001b[0mindustry_name\u001b[0m \u001b[1;32min\u001b[0m \u001b[0mIndustry_Names\u001b[0m\u001b[1;33m:\u001b[0m\u001b[1;33m\u001b[0m\u001b[0m\n\u001b[0;32m      2\u001b[0m \u001b[1;33m\u001b[0m\u001b[0m\n\u001b[1;32m----> 3\u001b[1;33m     \u001b[0mindustry_file\u001b[0m \u001b[1;33m=\u001b[0m \u001b[0mpd\u001b[0m\u001b[1;33m.\u001b[0m\u001b[0mExcelFile\u001b[0m\u001b[1;33m(\u001b[0m\u001b[1;34m'C:\\\\Users\\\\PL_Dell3668_One\\\\Desktop\\\\MN_Industry\\Corr_Industry\\\\Industry_Correlation_Data\\\\Categories_Industry\\\\'\u001b[0m\u001b[1;33m+\u001b[0m\u001b[0mindustry_name\u001b[0m\u001b[1;33m+\u001b[0m\u001b[1;34m'.xlsx'\u001b[0m\u001b[1;33m)\u001b[0m\u001b[1;33m\u001b[0m\u001b[0m\n\u001b[0m\u001b[0;32m      4\u001b[0m \u001b[1;33m\u001b[0m\u001b[0m\n\u001b[0;32m      5\u001b[0m     \u001b[0mindices_sheetnames\u001b[0m \u001b[1;33m=\u001b[0m \u001b[0mindustry_file\u001b[0m\u001b[1;33m.\u001b[0m\u001b[0msheet_names\u001b[0m\u001b[1;33m\u001b[0m\u001b[0m\n",
      "\u001b[1;32mC:\\Anaconda\\lib\\site-packages\\pandas\\io\\excel.py\u001b[0m in \u001b[0;36m__init__\u001b[1;34m(self, io, **kwds)\u001b[0m\n\u001b[0;32m    258\u001b[0m             \u001b[0mself\u001b[0m\u001b[1;33m.\u001b[0m\u001b[0mbook\u001b[0m \u001b[1;33m=\u001b[0m \u001b[0mxlrd\u001b[0m\u001b[1;33m.\u001b[0m\u001b[0mopen_workbook\u001b[0m\u001b[1;33m(\u001b[0m\u001b[0mfile_contents\u001b[0m\u001b[1;33m=\u001b[0m\u001b[0mdata\u001b[0m\u001b[1;33m)\u001b[0m\u001b[1;33m\u001b[0m\u001b[0m\n\u001b[0;32m    259\u001b[0m         \u001b[1;32melif\u001b[0m \u001b[0misinstance\u001b[0m\u001b[1;33m(\u001b[0m\u001b[0mio\u001b[0m\u001b[1;33m,\u001b[0m \u001b[0mcompat\u001b[0m\u001b[1;33m.\u001b[0m\u001b[0mstring_types\u001b[0m\u001b[1;33m)\u001b[0m\u001b[1;33m:\u001b[0m\u001b[1;33m\u001b[0m\u001b[0m\n\u001b[1;32m--> 260\u001b[1;33m             \u001b[0mself\u001b[0m\u001b[1;33m.\u001b[0m\u001b[0mbook\u001b[0m \u001b[1;33m=\u001b[0m \u001b[0mxlrd\u001b[0m\u001b[1;33m.\u001b[0m\u001b[0mopen_workbook\u001b[0m\u001b[1;33m(\u001b[0m\u001b[0mio\u001b[0m\u001b[1;33m)\u001b[0m\u001b[1;33m\u001b[0m\u001b[0m\n\u001b[0m\u001b[0;32m    261\u001b[0m         \u001b[1;32melse\u001b[0m\u001b[1;33m:\u001b[0m\u001b[1;33m\u001b[0m\u001b[0m\n\u001b[0;32m    262\u001b[0m             raise ValueError('Must explicitly set engine if not passing in'\n",
      "\u001b[1;32mC:\\Anaconda\\lib\\site-packages\\xlrd\\__init__.py\u001b[0m in \u001b[0;36mopen_workbook\u001b[1;34m(filename, logfile, verbosity, use_mmap, file_contents, encoding_override, formatting_info, on_demand, ragged_rows)\u001b[0m\n\u001b[0;32m    114\u001b[0m         \u001b[0mpeek\u001b[0m \u001b[1;33m=\u001b[0m \u001b[0mfile_contents\u001b[0m\u001b[1;33m[\u001b[0m\u001b[1;33m:\u001b[0m\u001b[0mpeeksz\u001b[0m\u001b[1;33m]\u001b[0m\u001b[1;33m\u001b[0m\u001b[0m\n\u001b[0;32m    115\u001b[0m     \u001b[1;32melse\u001b[0m\u001b[1;33m:\u001b[0m\u001b[1;33m\u001b[0m\u001b[0m\n\u001b[1;32m--> 116\u001b[1;33m         \u001b[1;32mwith\u001b[0m \u001b[0mopen\u001b[0m\u001b[1;33m(\u001b[0m\u001b[0mfilename\u001b[0m\u001b[1;33m,\u001b[0m \u001b[1;34m\"rb\"\u001b[0m\u001b[1;33m)\u001b[0m \u001b[1;32mas\u001b[0m \u001b[0mf\u001b[0m\u001b[1;33m:\u001b[0m\u001b[1;33m\u001b[0m\u001b[0m\n\u001b[0m\u001b[0;32m    117\u001b[0m             \u001b[0mpeek\u001b[0m \u001b[1;33m=\u001b[0m \u001b[0mf\u001b[0m\u001b[1;33m.\u001b[0m\u001b[0mread\u001b[0m\u001b[1;33m(\u001b[0m\u001b[0mpeeksz\u001b[0m\u001b[1;33m)\u001b[0m\u001b[1;33m\u001b[0m\u001b[0m\n\u001b[0;32m    118\u001b[0m     \u001b[1;32mif\u001b[0m \u001b[0mpeek\u001b[0m \u001b[1;33m==\u001b[0m \u001b[1;34mb\"PK\\x03\\x04\"\u001b[0m\u001b[1;33m:\u001b[0m \u001b[1;31m# a ZIP file\u001b[0m\u001b[1;33m\u001b[0m\u001b[0m\n",
      "\u001b[1;31mFileNotFoundError\u001b[0m: [Errno 2] No such file or directory: 'C:\\\\Users\\\\PL_Dell3668_One\\\\Desktop\\\\MN_Industry\\\\Corr_Industry\\\\Industry_Correlation_Data\\\\Categories_Industry\\\\924 ADMIN -ENVRNMNTAL QUALITY.xlsx'"
     ]
    }
   ],
   "source": [
    "for industry_name in Industry_Names:\n",
    "    \n",
    "    industry_file = pd.ExcelFile('C:\\\\Users\\\\PL_Dell3668_One\\\\Desktop\\\\MN_Industry\\\\\n",
    "Corr_Industry\\\\Industry_Correlation_Data\\\\Categories_Industry\\\\'+industry_name+'.xlsx')\n",
    "    \n",
    "    indices_sheetnames = industry_file.sheet_names\n",
    "    \n",
    "    path = os.getcwd() + r'\\Vars_Industry\\Categories_Vars'\n",
    "    \n",
    "    writer_E = pd.ExcelWriter(path+'\\\\'+'Extremely_High_Vars\\\\'+industry_name+'.xlsx')\n",
    "    \n",
    "#     path_M = os.getcwd() + r'\\Vars_Industry\\Indices_Vars'\n",
    "    \n",
    "    writer_M = pd.ExcelWriter(path+'\\\\'+'Mid_High_Vars\\\\'+industry_name+'.xlsx')\n",
    "    \n",
    "#     path_E = os.getcwd() + r'\\Vars_Industry\\Indices_Vars'\n",
    "    \n",
    "    writer_H = pd.ExcelWriter(path+'\\\\'+'High_Vars\\\\'+industry_name+'.xlsx')\n",
    "    \n",
    "    for sheetname in indices_sheetnames:\n",
    "        \n",
    "        df = industry_file.parse(sheetname)\n",
    "    \n",
    "        df_E = df[df['Correlation Coefficient'] >0.9]\n",
    "\n",
    "        df_M = df[(df['Correlation Coefficient'] >= 0.7) & \n",
    "                  (df['Correlation Coefficient'] < 0.9)]\n",
    "\n",
    "        df_H = df[(df['Correlation Coefficient'] >= 0.5) &\n",
    "                  (df['Correlation Coefficient'] < 0.7)]\n",
    "        \n",
    "        df_E = df_E.to_excel(writer_E, sheet_name=sheetname)\n",
    "        \n",
    "        df_M = df_M.to_excel(writer_M, sheet_name=sheetname)\n",
    "        \n",
    "        df_H = df_H.to_excel(writer_H, sheet_name=sheetname)    "
   ]
  },
  {
   "cell_type": "code",
   "execution_count": null,
   "metadata": {
    "collapsed": true
   },
   "outputs": [],
   "source": []
  }
 ],
 "metadata": {
  "kernelspec": {
   "display_name": "Python 3",
   "language": "python",
   "name": "python3"
  },
  "language_info": {
   "codemirror_mode": {
    "name": "ipython",
    "version": 3
   },
   "file_extension": ".py",
   "mimetype": "text/x-python",
   "name": "python",
   "nbconvert_exporter": "python",
   "pygments_lexer": "ipython3",
   "version": "3.6.3"
  }
 },
 "nbformat": 4,
 "nbformat_minor": 2
}
